{
  "nbformat": 4,
  "nbformat_minor": 0,
  "metadata": {
    "colab": {
      "provenance": [],
      "authorship_tag": "ABX9TyN90/3wTUbqYEmQg0RuBasi",
      "include_colab_link": true
    },
    "kernelspec": {
      "name": "python3",
      "display_name": "Python 3"
    },
    "language_info": {
      "name": "python"
    }
  },
  "cells": [
    {
      "cell_type": "markdown",
      "metadata": {
        "id": "view-in-github",
        "colab_type": "text"
      },
      "source": [
        "<a href=\"https://colab.research.google.com/github/Kenneth-Asugas/CPE-103-OOP-1-A/blob/main/Lab_3.ipynb\" target=\"_parent\"><img src=\"https://colab.research.google.com/assets/colab-badge.svg\" alt=\"Open In Colab\"/></a>"
      ]
    },
    {
      "cell_type": "markdown",
      "source": [
        "# Creating Classes"
      ],
      "metadata": {
        "id": "ZYOfKfJcS7-a"
      }
    },
    {
      "cell_type": "markdown",
      "source": [
        "No. 1-4."
      ],
      "metadata": {
        "id": "x86-_JJrUvIw"
      }
    },
    {
      "cell_type": "code",
      "source": [
        "class Accounts():\n",
        "    account_number = 0\n",
        "    account_firstname = \"\"\n",
        "    account_lastname = \"\"\n",
        "    current_balance = 0\n",
        "    address = \"\"\n",
        "    email = \"\"\n",
        "\n",
        "    def update_address(new_address):\n",
        "        Accounts.address = new_address\n",
        "\n",
        "    def update_email(new_email):\n",
        "        Accounts.email = new_email"
      ],
      "metadata": {
        "id": "TUv92deeS-NJ"
      },
      "execution_count": 2,
      "outputs": []
    },
    {
      "cell_type": "code",
      "source": [
        "class ATM():\n",
        "    serial_number = 0\n",
        "\n",
        "    def deposit(self, Accounts: Accounts, amount):\n",
        "        Accounts.current_balance += amount\n",
        "        print(\"depost complete\")\n",
        "\n",
        "    def withdraw(self, Accounts: Accounts, amount):\n",
        "        Accounts.current_balance -= amount\n",
        "        print(\"withdraw complete\")\n",
        "\n",
        "    def check_currentbalance(self, Accounts: Accounts):\n",
        "        print(Accounts.current_balance)\n",
        ""
      ],
      "metadata": {
        "id": "NZdt0bVyTSjq"
      },
      "execution_count": 5,
      "outputs": []
    },
    {
      "cell_type": "markdown",
      "source": [
        "# Creating Instances of Classes"
      ],
      "metadata": {
        "id": "pbq7rPQxTWza"
      }
    },
    {
      "cell_type": "markdown",
      "source": [
        "No. 5-9."
      ],
      "metadata": {
        "id": "_YSmS_P3UyU4"
      }
    },
    {
      "cell_type": "code",
      "source": [
        "Account1 = Accounts()\n",
        "Account1.account_firstname = \"Royce\"\n",
        "Accounts.account_lastname = \"Chua\"\n",
        "Account1.current_balance = 1000\n",
        "Account1.address = \"Silver Street Quezon City\"\n",
        "Account1.email = \"roycechua123@gmail.com\"\n",
        "\n",
        "print(Account1.account_firstname)\n",
        "print(Account1.account_lastname)\n",
        "print(Account1.current_balance)\n",
        "print(Account1.address)\n",
        "print(Account1.email)\n",
        "\n",
        "print()\n",
        "\n",
        "Account2 = Accounts()\n",
        "Account2.account_firstname = \"John\"\n",
        "Account2.account_lastname = \"Doe\"\n",
        "Account2.current_balance = 2000\n",
        "Account2.address = \"Golden Street Quezon City\"\n",
        "Account1.email = \"johndoe@yahoo.com\"\n",
        "\n",
        "print(Account2.account_firstname)\n",
        "print(Account2.account_lastname)\n",
        "print(Account2.current_balance)\n",
        "print(Account2.address)\n",
        "print(Account2.email)"
      ],
      "metadata": {
        "colab": {
          "base_uri": "https://localhost:8080/"
        },
        "id": "paXVJroFTa4J",
        "outputId": "74cbb1e3-597b-4a87-cebd-760fa8dc1146"
      },
      "execution_count": 7,
      "outputs": [
        {
          "output_type": "stream",
          "name": "stdout",
          "text": [
            "Royce\n",
            "Chua\n",
            "1000\n",
            "Silver Street Quezon City\n",
            "roycechua123@gmail.com\n",
            "\n",
            "John\n",
            "Doe\n",
            "2000\n",
            "Golden Street Quezon City\n",
            "\n"
          ]
        }
      ]
    },
    {
      "cell_type": "code",
      "source": [
        "ATM1 = ATM()\n",
        "ATM1.deposit(Account1, 500)\n",
        "ATM1.check_currentbalance(Account1)\n",
        "\n",
        "ATM1.deposit(Account2, 500)\n",
        "ATM1.check_currentbalance(Account2)"
      ],
      "metadata": {
        "colab": {
          "base_uri": "https://localhost:8080/"
        },
        "id": "DYfUk0O6T9-4",
        "outputId": "16fa20cd-ea7c-4c3d-a102-ab2fd0dd8375"
      },
      "execution_count": 11,
      "outputs": [
        {
          "output_type": "stream",
          "name": "stdout",
          "text": [
            "depost complete\n",
            "3000\n",
            "depost complete\n",
            "4000\n"
          ]
        }
      ]
    },
    {
      "cell_type": "markdown",
      "source": [
        "# Create the Constructor in each Class"
      ],
      "metadata": {
        "id": "msR3m1qfUKYJ"
      }
    },
    {
      "cell_type": "markdown",
      "source": [
        "No. 1-3"
      ],
      "metadata": {
        "id": "EvmocaUeU11g"
      }
    },
    {
      "cell_type": "code",
      "source": [
        "class Accounts():\n",
        "    def __init__(self, account_number, account_firstname, account_lastname, current_balance, address, email):\n",
        "        self.account_number = account_number\n",
        "        self.account_firstname = account_firstname\n",
        "        self.account_lastname = account_lastname\n",
        "        self.current_balance = current_balance\n",
        "        self.address = address\n",
        "        self.email = email\n",
        "\n",
        "    def update_address(self, new_address):\n",
        "        self.address = new_address\n",
        "\n",
        "    def update_email(self, new_email):\n",
        "        self.email = new_email"
      ],
      "metadata": {
        "id": "5KFGv3GGUNoQ"
      },
      "execution_count": 15,
      "outputs": []
    },
    {
      "cell_type": "code",
      "source": [
        "Account1 = Accounts(123456, \"Royce\", \"Chua\", 1000, \"Silver Street Quezon City\", \"roycechua123@gmail.com\")\n",
        "\n",
        "print(\"Account1\")\n",
        "print(Account1.account_firstname)\n",
        "print(Account1.account_lastname)\n",
        "print(Account1.current_balance)\n",
        "print(Account1.address)\n",
        "print(Account1.email)\n",
        "\n",
        "print()\n",
        "\n",
        "Account2 = Accounts(654321, \"John\", \"Doe\", 2000, \"Golden Street Quezon City\", \"johndoe@yahoo.com\")\n",
        "print(\"Account2\")\n",
        "print(Account2.account_firstname)\n",
        "print(Account2.account_lastname)\n",
        "print(Account2.current_balance)\n",
        "print(Account2.address)\n",
        "print(Account2.email)\n"
      ],
      "metadata": {
        "colab": {
          "base_uri": "https://localhost:8080/"
        },
        "id": "tDDoT1SNUWPx",
        "outputId": "e2bbf930-cabb-4868-f5dc-cfa4083f6707"
      },
      "execution_count": 17,
      "outputs": [
        {
          "output_type": "stream",
          "name": "stdout",
          "text": [
            "Account1\n",
            "Royce\n",
            "Chua\n",
            "1000\n",
            "Silver Street Quezon City\n",
            "roycechua123@gmail.com\n",
            "\n",
            "Account2\n",
            "John\n",
            "Doe\n",
            "2000\n",
            "Golden Street Quezon City\n",
            "johndoe@yahoo.com\n"
          ]
        }
      ]
    }
  ]
}
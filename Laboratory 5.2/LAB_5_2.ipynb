{
  "nbformat": 4,
  "nbformat_minor": 0,
  "metadata": {
    "colab": {
      "provenance": [],
      "include_colab_link": true
    },
    "kernelspec": {
      "name": "python3",
      "display_name": "Python 3"
    },
    "language_info": {
      "name": "python"
    }
  },
  "cells": [
    {
      "cell_type": "markdown",
      "metadata": {
        "id": "view-in-github",
        "colab_type": "text"
      },
      "source": [
        "<a href=\"https://colab.research.google.com/github/Kenneth-Asugas/CPE-103-OOP-1-A/blob/main/LAB_5_2.ipynb\" target=\"_parent\"><img src=\"https://colab.research.google.com/assets/colab-badge.svg\" alt=\"Open In Colab\"/></a>"
      ]
    },
    {
      "cell_type": "code",
      "execution_count": null,
      "metadata": {
        "colab": {
          "base_uri": "https://localhost:8080/"
        },
        "id": "1rwTayedcYVR",
        "outputId": "29116f7c-2a93-4b60-a4b7-625d213e0d46"
      },
      "outputs": [
        {
          "output_type": "stream",
          "name": "stdout",
          "text": [
            "<_io.TextIOWrapper name='mbox.txt' mode='r' encoding='utf-8'>\n"
          ]
        }
      ],
      "source": [
        "fhand = open('mbox.txt')\n",
        "print(fhand)"
      ]
    },
    {
      "cell_type": "code",
      "source": [
        "fhand = open('stuff.txt')"
      ],
      "metadata": {
        "id": "6H1gW_N5dYlm"
      },
      "execution_count": null,
      "outputs": []
    },
    {
      "cell_type": "code",
      "source": [
        "stuff = 'Hello\\nWorld'\n",
        "stuff"
      ],
      "metadata": {
        "colab": {
          "base_uri": "https://localhost:8080/",
          "height": 35
        },
        "id": "e4Zk5gd0dY4a",
        "outputId": "e7b7b616-1fd1-4c88-855b-1f25d23e7d00"
      },
      "execution_count": null,
      "outputs": [
        {
          "output_type": "execute_result",
          "data": {
            "text/plain": [
              "'Hello\\nWorld'"
            ],
            "application/vnd.google.colaboratory.intrinsic+json": {
              "type": "string"
            }
          },
          "metadata": {},
          "execution_count": 5
        }
      ]
    },
    {
      "cell_type": "code",
      "source": [
        "print(stuff)"
      ],
      "metadata": {
        "colab": {
          "base_uri": "https://localhost:8080/"
        },
        "id": "LXuxRAAndY7R",
        "outputId": "f714fa19-b72e-40b2-c39b-392f03f577a5"
      },
      "execution_count": null,
      "outputs": [
        {
          "output_type": "stream",
          "name": "stdout",
          "text": [
            "Hello\n",
            "World\n"
          ]
        }
      ]
    },
    {
      "cell_type": "code",
      "source": [
        "stuff = 'X\\nY'\n",
        "print(stuff)"
      ],
      "metadata": {
        "colab": {
          "base_uri": "https://localhost:8080/"
        },
        "id": "S3AJ4TEKdY9R",
        "outputId": "716962ab-a07b-433d-9ddd-8ead4ea92aad"
      },
      "execution_count": null,
      "outputs": [
        {
          "output_type": "stream",
          "name": "stdout",
          "text": [
            "X\n",
            "Y\n"
          ]
        }
      ]
    },
    {
      "cell_type": "code",
      "source": [
        "len(stuff)"
      ],
      "metadata": {
        "colab": {
          "base_uri": "https://localhost:8080/"
        },
        "id": "JdUVChXLdY_i",
        "outputId": "97f09110-d709-4b07-af1a-3246796aa6e2"
      },
      "execution_count": null,
      "outputs": [
        {
          "output_type": "execute_result",
          "data": {
            "text/plain": [
              "3"
            ]
          },
          "metadata": {},
          "execution_count": 8
        }
      ]
    },
    {
      "cell_type": "code",
      "source": [
        "fhand = open('mbox-short.txt')\n",
        "count = 0\n",
        "for line in fhand:\n",
        "    count = count + 1\n",
        "print('Line Count:', count)"
      ],
      "metadata": {
        "colab": {
          "base_uri": "https://localhost:8080/"
        },
        "id": "douu5i_1dZDh",
        "outputId": "7ceac43d-a145-4636-8966-c1338fc03b19"
      },
      "execution_count": null,
      "outputs": [
        {
          "output_type": "stream",
          "name": "stdout",
          "text": [
            "Line Count: 1\n"
          ]
        }
      ]
    },
    {
      "cell_type": "code",
      "source": [
        "fhand = open('mbox-short.txt')\n",
        "inp = fhand.read()\n",
        "print(len(inp))"
      ],
      "metadata": {
        "colab": {
          "base_uri": "https://localhost:8080/"
        },
        "id": "pWFRLXY5dZFp",
        "outputId": "a21937a1-41df-42f0-f9f4-bb50e0288f96"
      },
      "execution_count": null,
      "outputs": [
        {
          "output_type": "stream",
          "name": "stdout",
          "text": [
            "2\n"
          ]
        }
      ]
    },
    {
      "cell_type": "code",
      "source": [
        "print(inp[:20])"
      ],
      "metadata": {
        "colab": {
          "base_uri": "https://localhost:8080/"
        },
        "id": "9e-GqVE5dZI5",
        "outputId": "64f35b0c-9f42-4be2-8e1a-64f54bf1897e"
      },
      "execution_count": null,
      "outputs": [
        {
          "output_type": "stream",
          "name": "stdout",
          "text": [
            "ww\n"
          ]
        }
      ]
    },
    {
      "cell_type": "code",
      "source": [
        "fhand = open('mbox-short.txt')\n",
        "print(len(fhand.read()))"
      ],
      "metadata": {
        "colab": {
          "base_uri": "https://localhost:8080/"
        },
        "id": "WJhWRXyCdZLR",
        "outputId": "b0b0650c-c824-4276-ce13-634e7e16d519"
      },
      "execution_count": null,
      "outputs": [
        {
          "output_type": "stream",
          "name": "stdout",
          "text": [
            "2\n"
          ]
        }
      ]
    },
    {
      "cell_type": "code",
      "source": [
        "print(len(fhand.read()))"
      ],
      "metadata": {
        "colab": {
          "base_uri": "https://localhost:8080/"
        },
        "id": "nHkBWQdFdZOZ",
        "outputId": "e4b56ecf-f1d0-4a04-a3b4-22a8fac93b78"
      },
      "execution_count": null,
      "outputs": [
        {
          "output_type": "stream",
          "name": "stdout",
          "text": [
            "0\n"
          ]
        }
      ]
    },
    {
      "cell_type": "code",
      "source": [
        "fhand = open('mbox-short.txt')\n",
        "for line in fhand:\n",
        "    if line.startswith('From:'):\n",
        "        print(line)"
      ],
      "metadata": {
        "id": "SuxJfwzCfNAx"
      },
      "execution_count": null,
      "outputs": []
    },
    {
      "cell_type": "code",
      "source": [
        "fhand = open('mbox-short.txt')\n",
        "for line in fhand:\n",
        "    line = line.rstrip()\n",
        "    if line.startswith('From:'):\n",
        "        print(line)"
      ],
      "metadata": {
        "id": "AdaLtXU2fNDR"
      },
      "execution_count": null,
      "outputs": []
    },
    {
      "cell_type": "code",
      "source": [
        "fhand = open('mbox-short.txt')\n",
        "for line in fhand:\n",
        "    line = line.rstrip()\n",
        "    if not line.startswith('From:'):\n",
        "        continue\n",
        "    print(line)"
      ],
      "metadata": {
        "id": "aKTIdNFkfNFA"
      },
      "execution_count": null,
      "outputs": []
    },
    {
      "cell_type": "code",
      "source": [
        "fhand = open('mbox-short.txt')\n",
        "for line in fhand:\n",
        "    line = line.rstrip()\n",
        "    if line.find('@uct.ac.za') == -1:\n",
        "        continue\n",
        "    print(line)"
      ],
      "metadata": {
        "id": "QTlgg8slfNJZ"
      },
      "execution_count": null,
      "outputs": []
    },
    {
      "cell_type": "code",
      "source": [
        "fname = input('Enter the file name: ')\n",
        "fhand = open(fname)\n",
        "count = 0\n",
        "for line in fhand:\n",
        "    if line.startswith('Subject:'):\n",
        "        count = count + 1\n",
        "print('There were', count, 'subject lines in', fname)"
      ],
      "metadata": {
        "colab": {
          "base_uri": "https://localhost:8080/"
        },
        "id": "LlO1XaaKfNNI",
        "outputId": "3a84755c-cfaa-4546-b162-cc779a35dfeb"
      },
      "execution_count": null,
      "outputs": [
        {
          "output_type": "stream",
          "name": "stdout",
          "text": [
            "Enter the file name: NETH.txt\n",
            "There were 0 subject lines in NETH.txt\n"
          ]
        }
      ]
    },
    {
      "cell_type": "code",
      "source": [
        "fname = input('Enter the file name: ')\n",
        "try:\n",
        "   fhand = open(fname)\n",
        "except:\n",
        "   print('File cannot be opened:', fname)\n",
        "   exit()\n",
        "count = 0\n",
        "for line in fhand:\n",
        "    if line.startswith('Subject:'):\n",
        "        count = count + 1\n",
        "print('There were', count, 'subject lines in', fname)"
      ],
      "metadata": {
        "colab": {
          "base_uri": "https://localhost:8080/"
        },
        "id": "33tt_K8FfUh5",
        "outputId": "f0a6b65f-37d2-49a6-fabf-ccadbabda815"
      },
      "execution_count": null,
      "outputs": [
        {
          "output_type": "stream",
          "name": "stdout",
          "text": [
            "Enter the file name: mbox.txt\n",
            "There were 0 subject lines in mbox.txt\n"
          ]
        }
      ]
    },
    {
      "cell_type": "code",
      "source": [
        "fout = open('output.txt', 'w')"
      ],
      "metadata": {
        "id": "A60EpQmlfWkR"
      },
      "execution_count": null,
      "outputs": []
    },
    {
      "cell_type": "code",
      "source": [
        "line1 = \"This here's the wattle,\\n\"\n",
        "fout.write(line1)"
      ],
      "metadata": {
        "colab": {
          "base_uri": "https://localhost:8080/"
        },
        "id": "mpBE1HLwfWm5",
        "outputId": "aca00c5e-9796-4e50-f36a-9d34ff1f95fa"
      },
      "execution_count": null,
      "outputs": [
        {
          "output_type": "execute_result",
          "data": {
            "text/plain": [
              "24"
            ]
          },
          "metadata": {},
          "execution_count": 22
        }
      ]
    },
    {
      "cell_type": "code",
      "source": [
        "line2 = 'the emblem of our land.\\n'\n",
        "fout.write(line2)"
      ],
      "metadata": {
        "colab": {
          "base_uri": "https://localhost:8080/"
        },
        "id": "-oGFRNTsfWpB",
        "outputId": "ca4c9a2c-32e0-4722-b54e-eec076c9c4cd"
      },
      "execution_count": null,
      "outputs": [
        {
          "output_type": "execute_result",
          "data": {
            "text/plain": [
              "24"
            ]
          },
          "metadata": {},
          "execution_count": 23
        }
      ]
    },
    {
      "cell_type": "code",
      "source": [
        "fout.close()"
      ],
      "metadata": {
        "id": "bmZxdxYAfWsZ"
      },
      "execution_count": null,
      "outputs": []
    },
    {
      "cell_type": "code",
      "source": [
        "\n",
        "supple = open('NETH.txt')\n",
        "obs = supple.read()\n",
        "print(obs)"
      ],
      "metadata": {
        "colab": {
          "base_uri": "https://localhost:8080/"
        },
        "id": "mMB56aAafUly",
        "outputId": "b0e833a1-d805-4446-c973-753f67d720be"
      },
      "execution_count": null,
      "outputs": [
        {
          "output_type": "stream",
          "name": "stdout",
          "text": [
            "CUTE KO\n"
          ]
        }
      ]
    },
    {
      "cell_type": "code",
      "source": [
        "supple = open('NETH.txt')\n",
        "\n",
        "obs = supple.read()\n",
        "print(obs)"
      ],
      "metadata": {
        "colab": {
          "base_uri": "https://localhost:8080/"
        },
        "id": "GUt1zW6Gfg6B",
        "outputId": "beb3bc3a-8aaf-42f5-c992-5ea952f42935"
      },
      "execution_count": null,
      "outputs": [
        {
          "output_type": "stream",
          "name": "stdout",
          "text": [
            "CUTE KO\n"
          ]
        }
      ]
    },
    {
      "cell_type": "code",
      "source": [
        "supple = open('NETH.txt', 'w')\n",
        "line1 = \"Basic operations you can perform on data, especially in the context of databases or persistent storage systems.\"\n",
        "supple.write(line1)\n",
        "supple.close()\n",
        "\n",
        "#Read\n",
        "supple = open('NETH.txt')\n",
        "obs = supple.read()\n",
        "print(obs)\n"
      ],
      "metadata": {
        "colab": {
          "base_uri": "https://localhost:8080/"
        },
        "id": "JdKsXO-bfg-p",
        "outputId": "a5a1ac48-1470-4b7f-cd47-a765110b52b0"
      },
      "execution_count": null,
      "outputs": [
        {
          "output_type": "stream",
          "name": "stdout",
          "text": [
            "Basic operations you can perform on data, especially in the context of databases or persistent storage systems.\n"
          ]
        }
      ]
    },
    {
      "cell_type": "code",
      "source": [
        "!unlink NETH.txt"
      ],
      "metadata": {
        "id": "DscgKGlefoBa"
      },
      "execution_count": null,
      "outputs": []
    }
  ]
}
{
  "cells": [
    {
      "cell_type": "markdown",
      "metadata": {
        "id": "view-in-github",
        "colab_type": "text"
      },
      "source": [
        "<a href=\"https://colab.research.google.com/github/Kenneth-Asugas/CPE-103-OOP-1-A/blob/main/Laboratory%202.2.ipynb\" target=\"_parent\"><img src=\"https://colab.research.google.com/assets/colab-badge.svg\" alt=\"Open In Colab\"/></a>"
      ]
    },
    {
      "cell_type": "markdown",
      "metadata": {
        "id": "xUKw6dtiGo-r"
      },
      "source": [
        "---\n",
        "<center>\n",
        "\n",
        "**University of Caloocan City**<br>\n",
        "Computer Engineering Department<br>\n",
        "Bagong Silang Campus</center>\n",
        "\n",
        "---\n",
        "<center><h4> Laboratory No.2.2 - Literals, Operators, and Variables-Supplementary Activity </h4></center>\n",
        "\n",
        "---\n",
        "<center>\n",
        "\n",
        "| Course: CPE 103 | Program: BSCpE |\n",
        "|--- | --- |\n",
        "| **Course Title**: Object Oriented Programming | **Date Performed:** 2 / 1 / 2025 |\n",
        "| **Section**: 1A  | **Date Submitted:** 2 / 1 / 2025 |\n",
        "| **Student Name**: Asugas, Keneth R.  | **Instructor's Name:** Engr. Maria Rizette Sayo |\n",
        "</center>"
      ]
    },
    {
      "cell_type": "markdown",
      "source": [
        "**Objective/s of the activity:**\n",
        "\n",
        "1.   Implement literals and variables in a python program.\n",
        "\n",
        "\n",
        "**Intended Learning Outcome:**\n",
        "\n",
        "1.   Write a simple program implementing literals and variables.\n",
        "2.   Use comments and identify keywords from identifiers created by users.\n",
        "\n",
        "**Discussion:**\n",
        "\n",
        "Discuss the use of variables, constants and literals in a python program.\n",
        "\n",
        "**Materials and Equipment:**\n",
        "\n",
        "1.   List item\n",
        "2.   List item\n",
        "\n",
        "**Procedure:**\n",
        "\n",
        "1.   List item\n",
        "2.   List item"
      ],
      "metadata": {
        "id": "gNe4D_l5JGiM"
      }
    },
    {
      "cell_type": "code",
      "source": [
        "# Place all the output of the procedures here"
      ],
      "metadata": {
        "id": "WORPHnvZKBVE"
      },
      "execution_count": null,
      "outputs": []
    },
    {
      "cell_type": "markdown",
      "source": [
        "**Supplementary Activity**:\n",
        "\n",
        "1.   List Item\n",
        "2.   List item\n"
      ],
      "metadata": {
        "id": "bV8A708BKFuC"
      }
    },
    {
      "cell_type": "code",
      "source": [
        "# Place all the output of the supplementary activity here"
      ],
      "metadata": {
        "id": "X2QfbKrmKOJK"
      },
      "execution_count": null,
      "outputs": []
    },
    {
      "cell_type": "markdown",
      "source": [
        "\n",
        "**Questions**: (write your answers in blue font color and questions in black)\n",
        "\n",
        "1.   List item\n",
        "2.   List item"
      ],
      "metadata": {
        "id": "0CYvOMNPKNEq"
      }
    },
    {
      "cell_type": "markdown",
      "source": [
        "**Conclusion**:\n",
        "(conclusion must be based from the objective and answers whether you attained the objective/s or not and a brief explanation how you attained it)\n"
      ],
      "metadata": {
        "id": "f8oM9wqYKuO1"
      }
    },
    {
      "cell_type": "code",
      "source": [
        "\n",
        "PHOA = float(input(\"Enter Hands-on Activity grade: \"))\n",
        "PQUIZ = float(input(\"Enter Prelim Quiz grade: \"))\n",
        "PAS = float(input(\"Enter Prelim Assignment grade: \"))\n",
        "PCS = PHOA*.5 + PQUIZ*.3 + PAS*.2\n",
        "print(\"Prelim CS is: \", PCS)\n",
        "PEX = float(input(\"Enter Prelim Exam grade: \"))\n",
        "PG = PEX*.5 + PCS*.5\n",
        "print(\"Prelim Grade is: \", \"%.2f\" % PG)\n",
        "\n"
      ],
      "metadata": {
        "colab": {
          "base_uri": "https://localhost:8080/"
        },
        "id": "NHscsOjtxAtB",
        "outputId": "8f893fda-0c06-49c2-f61d-52e9b7d5cd13"
      },
      "execution_count": 15,
      "outputs": [
        {
          "output_type": "stream",
          "name": "stdout",
          "text": [
            "Enter Hands-on Activity grade: 89\n",
            "Enter Prelim Quiz grade: 90\n",
            "Enter Prelim Assignment grade: 93\n",
            "Prelim CS is:  90.1\n",
            "Enter Prelim Exam grade: 89\n",
            "Prelim Grade is:  89.55\n"
          ]
        }
      ]
    },
    {
      "cell_type": "code",
      "source": [
        "def convert_to_uccs_grade(FG):\n",
        "    if 97 <= FG <= 100:\n",
        "        print(1.00)\n",
        "    elif 94 <= FG <= 96:\n",
        "        print(1.25)\n",
        "    elif 91 <= FG <= 93:\n",
        "        print(1.50)\n",
        "    elif 88 <= FG <= 90:\n",
        "        print(1.75)\n",
        "    elif 85 <= FG <= 87:\n",
        "        print(2.00)\n",
        "    elif 82 <= FG <= 84:\n",
        "        print(2.25)\n",
        "    elif 79 <= FG <= 81:\n",
        "        print(2.50)\n",
        "    elif 76 <= FG <= 78:\n",
        "        print(2.75)\n",
        "    elif 60 <= FG <= 75:\n",
        "        print(3.00)\n",
        "    elif 50 <= FG <= 59:\n",
        "        print(4.00)\n",
        "    elif 40 <= FG <= 49:\n",
        "        print(5.00)\n",
        "    else:\n",
        "        print(\"Failed\")\n",
        "\n",
        "\n",
        "STUDENTS = int(input(\"Enter the number of students: \"))\n",
        "\n",
        "for i in range(STUDENTS):\n",
        "    NAME = input(f\"\\nEnter the name of student {i + 1}: \")\n",
        "\n",
        "    # Prelim Grades\n",
        "    PHOA = float(input(\"\\n90Enter Prelim Hands-on Activity grade: \"))\n",
        "    PQUIZ = float(input(\"Enter Prelim Quiz grade: \"))\n",
        "    PAS = float(input(\"Enter Prelim Assignment grade: \"))\n",
        "    PCS = PHOA * 0.5 + PQUIZ * 0.3 + PAS * 0.2\n",
        "    print(\"Prelim CS is: \", PCS)\n",
        "    PEX = float(input(\"Enter Prelim Exam grade: \"))\n",
        "    PG = PEX * 0.5 + PCS * 0.5\n",
        "    print(\"Prelim Grade is: \", \"%.2f\" % PG)\n",
        "\n",
        "    # Midterm Grades\n",
        "    MHOA = float(input(\"\\nEnter Midterm Hands-on Activity grade: \"))\n",
        "    MQUIZ = float(input(\"Enter Midterm Quiz grade: \"))\n",
        "    MAS = float(input(\"Enter Midterm Assignment grade: \"))\n",
        "    MCS = MHOA * 0.5 + MQUIZ * 0.3 + MAS * 0.2\n",
        "    print(\"Midterm CS is: \", MCS)\n",
        "    MEX = float(input(\"Enter Midterm Exam grade: \"))\n",
        "    MG = PG / 3 + (MEX * 0.5 + MCS * 0.5) * (2 / 3)\n",
        "    print(\"Midterm Grade is: \", \"%.2f\" % MG)\n",
        "\n",
        "    # Final Grades\n",
        "    FHOA = float(input(\"\\nEnter Final Hands-on Activity grade: \"))\n",
        "    FQUIZ = float(input(\"Enter Final Quiz grade: \"))\n",
        "    FAS = float(input(\"Enter Final Assignment grade: \"))\n",
        "    FCS = FHOA * 0.5 + FQUIZ * 0.3 + FAS * 0.2\n",
        "    print(\"Final CS is: \", FCS)\n",
        "    FEX = float(input(\"Enter Final Exam grade: \"))\n",
        "    FG = MG / 3 + (FEX * 0.5 + FCS * 0.5) * (2 / 3)\n",
        "    print(\"Final Grade is: \", \"%.2f\" % FG)\n",
        "\n",
        "    # Display UCCS Grade\n",
        "    UCCS_GRADE = convert_to_uccs_grade(FG)\n",
        "    print(f\"Student: {NAME}\")\n",
        "    print(f\"Prelim Grade: {PG:.2f}\")\n",
        "    print(f\"Midterm Grade: {MG:.2f}\")\n",
        "    print(f\"Final Grade: {FG:.2f}\")\n",
        "    print(f\"UCC Numerical Grade: {UCCS_GRADE}\")\n",
        "    print(\"-\" * 30)\n"
      ],
      "metadata": {
        "colab": {
          "base_uri": "https://localhost:8080/",
          "height": 894
        },
        "id": "m4w1yqFLWzt3",
        "outputId": "eec59074-d785-474a-8159-f7d18f5f77dd"
      },
      "execution_count": 40,
      "outputs": [
        {
          "output_type": "stream",
          "name": "stdout",
          "text": [
            "Enter the number of students: 3\n",
            "\n",
            "Enter the name of student 1: rhovic\n",
            "\n",
            "Enter Prelim Hands-on Activity grade: 90\n",
            "Enter Prelim Quiz grade: 90\n",
            "Enter Prelim Assignment grade: 90\n",
            "Prelim CS is:  90.0\n",
            "Enter Prelim Exam grade: 90\n",
            "Prelim Grade is:  90.00\n",
            "\n",
            "Enter Midterm Hands-on Activity grade: 90\n",
            "Enter Midterm Quiz grade: 90\n",
            "Enter Midterm Assignment grade: 90\n",
            "Midterm CS is:  90.0\n",
            "Enter Midterm Exam grade: 90\n",
            "Midterm Grade is:  90.00\n",
            "\n",
            "Enter Final Hands-on Activity grade: 90\n",
            "Enter Final Quiz grade: 90\n",
            "Enter Final Assignment grade: 90\n",
            "Final CS is:  90.0\n",
            "Enter Final Exam grade: 90\n",
            "Final Grade is:  90.00\n",
            "1.75\n",
            "Student: rhovic\n",
            "Prelim Grade: 90.00\n",
            "Midterm Grade: 90.00\n",
            "Final Grade: 90.00\n",
            "UCC Numerical Grade: None\n",
            "------------------------------\n"
          ]
        },
        {
          "output_type": "error",
          "ename": "KeyboardInterrupt",
          "evalue": "Interrupted by user",
          "traceback": [
            "\u001b[0;31m---------------------------------------------------------------------------\u001b[0m",
            "\u001b[0;31mKeyboardInterrupt\u001b[0m                         Traceback (most recent call last)",
            "\u001b[0;32m<ipython-input-40-fcb745df7ee8>\u001b[0m in \u001b[0;36m<cell line: 0>\u001b[0;34m()\u001b[0m\n\u001b[1;32m     29\u001b[0m \u001b[0;34m\u001b[0m\u001b[0m\n\u001b[1;32m     30\u001b[0m \u001b[0;32mfor\u001b[0m \u001b[0mi\u001b[0m \u001b[0;32min\u001b[0m \u001b[0mrange\u001b[0m\u001b[0;34m(\u001b[0m\u001b[0mSTUDENTS\u001b[0m\u001b[0;34m)\u001b[0m\u001b[0;34m:\u001b[0m\u001b[0;34m\u001b[0m\u001b[0;34m\u001b[0m\u001b[0m\n\u001b[0;32m---> 31\u001b[0;31m     \u001b[0mNAME\u001b[0m \u001b[0;34m=\u001b[0m \u001b[0minput\u001b[0m\u001b[0;34m(\u001b[0m\u001b[0;34mf\"\\nEnter the name of student {i + 1}: \"\u001b[0m\u001b[0;34m)\u001b[0m\u001b[0;34m\u001b[0m\u001b[0;34m\u001b[0m\u001b[0m\n\u001b[0m\u001b[1;32m     32\u001b[0m \u001b[0;34m\u001b[0m\u001b[0m\n\u001b[1;32m     33\u001b[0m     \u001b[0;31m# Prelim Grades\u001b[0m\u001b[0;34m\u001b[0m\u001b[0;34m\u001b[0m\u001b[0m\n",
            "\u001b[0;32m/usr/local/lib/python3.11/dist-packages/ipykernel/kernelbase.py\u001b[0m in \u001b[0;36mraw_input\u001b[0;34m(self, prompt)\u001b[0m\n\u001b[1;32m    849\u001b[0m                 \u001b[0;34m\"raw_input was called, but this frontend does not support input requests.\"\u001b[0m\u001b[0;34m\u001b[0m\u001b[0;34m\u001b[0m\u001b[0m\n\u001b[1;32m    850\u001b[0m             )\n\u001b[0;32m--> 851\u001b[0;31m         return self._input_request(str(prompt),\n\u001b[0m\u001b[1;32m    852\u001b[0m             \u001b[0mself\u001b[0m\u001b[0;34m.\u001b[0m\u001b[0m_parent_ident\u001b[0m\u001b[0;34m,\u001b[0m\u001b[0;34m\u001b[0m\u001b[0;34m\u001b[0m\u001b[0m\n\u001b[1;32m    853\u001b[0m             \u001b[0mself\u001b[0m\u001b[0;34m.\u001b[0m\u001b[0m_parent_header\u001b[0m\u001b[0;34m,\u001b[0m\u001b[0;34m\u001b[0m\u001b[0;34m\u001b[0m\u001b[0m\n",
            "\u001b[0;32m/usr/local/lib/python3.11/dist-packages/ipykernel/kernelbase.py\u001b[0m in \u001b[0;36m_input_request\u001b[0;34m(self, prompt, ident, parent, password)\u001b[0m\n\u001b[1;32m    893\u001b[0m             \u001b[0;32mexcept\u001b[0m \u001b[0mKeyboardInterrupt\u001b[0m\u001b[0;34m:\u001b[0m\u001b[0;34m\u001b[0m\u001b[0;34m\u001b[0m\u001b[0m\n\u001b[1;32m    894\u001b[0m                 \u001b[0;31m# re-raise KeyboardInterrupt, to truncate traceback\u001b[0m\u001b[0;34m\u001b[0m\u001b[0;34m\u001b[0m\u001b[0m\n\u001b[0;32m--> 895\u001b[0;31m                 \u001b[0;32mraise\u001b[0m \u001b[0mKeyboardInterrupt\u001b[0m\u001b[0;34m(\u001b[0m\u001b[0;34m\"Interrupted by user\"\u001b[0m\u001b[0;34m)\u001b[0m \u001b[0;32mfrom\u001b[0m \u001b[0;32mNone\u001b[0m\u001b[0;34m\u001b[0m\u001b[0;34m\u001b[0m\u001b[0m\n\u001b[0m\u001b[1;32m    896\u001b[0m             \u001b[0;32mexcept\u001b[0m \u001b[0mException\u001b[0m \u001b[0;32mas\u001b[0m \u001b[0me\u001b[0m\u001b[0;34m:\u001b[0m\u001b[0;34m\u001b[0m\u001b[0;34m\u001b[0m\u001b[0m\n\u001b[1;32m    897\u001b[0m                 \u001b[0mself\u001b[0m\u001b[0;34m.\u001b[0m\u001b[0mlog\u001b[0m\u001b[0;34m.\u001b[0m\u001b[0mwarning\u001b[0m\u001b[0;34m(\u001b[0m\u001b[0;34m\"Invalid Message:\"\u001b[0m\u001b[0;34m,\u001b[0m \u001b[0mexc_info\u001b[0m\u001b[0;34m=\u001b[0m\u001b[0;32mTrue\u001b[0m\u001b[0;34m)\u001b[0m\u001b[0;34m\u001b[0m\u001b[0;34m\u001b[0m\u001b[0m\n",
            "\u001b[0;31mKeyboardInterrupt\u001b[0m: Interrupted by user"
          ]
        }
      ]
    }
  ],
  "metadata": {
    "kernelspec": {
      "display_name": "Python 3",
      "language": "python",
      "name": "python3"
    },
    "language_info": {
      "codemirror_mode": {
        "name": "ipython",
        "version": 3
      },
      "file_extension": ".py",
      "mimetype": "text/x-python",
      "name": "python",
      "nbconvert_exporter": "python",
      "pygments_lexer": "ipython3",
      "version": "3.7.3"
    },
    "colab": {
      "provenance": [],
      "include_colab_link": true
    }
  },
  "nbformat": 4,
  "nbformat_minor": 0
}
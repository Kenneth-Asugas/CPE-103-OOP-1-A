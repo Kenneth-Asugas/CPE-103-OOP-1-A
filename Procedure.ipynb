{
  "nbformat": 4,
  "nbformat_minor": 0,
  "metadata": {
    "colab": {
      "provenance": [],
      "authorship_tag": "ABX9TyPIpNWWclEeXzWafemHg/U7",
      "include_colab_link": true
    },
    "kernelspec": {
      "name": "python3",
      "display_name": "Python 3"
    },
    "language_info": {
      "name": "python"
    }
  },
  "cells": [
    {
      "cell_type": "markdown",
      "metadata": {
        "id": "view-in-github",
        "colab_type": "text"
      },
      "source": [
        "<a href=\"https://colab.research.google.com/github/Kenneth-Asugas/CPE-103-OOP-1-A/blob/main/Procedure.ipynb\" target=\"_parent\"><img src=\"https://colab.research.google.com/assets/colab-badge.svg\" alt=\"Open In Colab\"/></a>"
      ]
    },
    {
      "cell_type": "markdown",
      "source": [
        "# Assigning variables of different data types in Python"
      ],
      "metadata": {
        "id": "UnGyQZGh4cmY"
      }
    },
    {
      "cell_type": "markdown",
      "source": [
        "1."
      ],
      "metadata": {
        "id": "y3u-or7Q6AEQ"
      }
    },
    {
      "cell_type": "code",
      "source": [
        "value=5\n",
        "print(value)"
      ],
      "metadata": {
        "colab": {
          "base_uri": "https://localhost:8080/"
        },
        "id": "7CBuztgM4jGX",
        "outputId": "e3178c6a-40db-405f-8398-05a7ae3fe0f8"
      },
      "execution_count": 7,
      "outputs": [
        {
          "output_type": "stream",
          "name": "stdout",
          "text": [
            "5\n"
          ]
        }
      ]
    },
    {
      "cell_type": "markdown",
      "source": [
        "2."
      ],
      "metadata": {
        "id": "cT53UTk76aIH"
      }
    },
    {
      "cell_type": "code",
      "source": [
        "type(value)"
      ],
      "metadata": {
        "colab": {
          "base_uri": "https://localhost:8080/"
        },
        "id": "gMRPvL7i6bUA",
        "outputId": "e3774661-5e29-4fd8-99e9-af0557d97919"
      },
      "execution_count": 8,
      "outputs": [
        {
          "output_type": "execute_result",
          "data": {
            "text/plain": [
              "int"
            ]
          },
          "metadata": {},
          "execution_count": 8
        }
      ]
    },
    {
      "cell_type": "markdown",
      "source": [
        "3."
      ],
      "metadata": {
        "id": "Gic200RQ6efY"
      }
    },
    {
      "cell_type": "code",
      "source": [
        "value=5.0\n",
        "print(value)"
      ],
      "metadata": {
        "colab": {
          "base_uri": "https://localhost:8080/"
        },
        "id": "O6-mXOm46g03",
        "outputId": "a1715602-66d9-4c9b-8c4c-461fe17d4cb3"
      },
      "execution_count": 9,
      "outputs": [
        {
          "output_type": "stream",
          "name": "stdout",
          "text": [
            "5.0\n"
          ]
        }
      ]
    },
    {
      "cell_type": "markdown",
      "source": [
        "4."
      ],
      "metadata": {
        "id": "LlkvexRcAYup"
      }
    },
    {
      "cell_type": "code",
      "source": [
        "type(value)"
      ],
      "metadata": {
        "colab": {
          "base_uri": "https://localhost:8080/"
        },
        "id": "dNl7cSnyAbCQ",
        "outputId": "b09d7120-a2b0-4074-d5ba-628d17d9f249"
      },
      "execution_count": 4,
      "outputs": [
        {
          "output_type": "execute_result",
          "data": {
            "text/plain": [
              "float"
            ]
          },
          "metadata": {},
          "execution_count": 4
        }
      ]
    },
    {
      "cell_type": "markdown",
      "source": [
        "5."
      ],
      "metadata": {
        "id": "KtR5H2erAsx4"
      }
    },
    {
      "cell_type": "code",
      "source": [
        "value=2+3j\n",
        "print(value)\n",
        "\n",
        "value='Hello World'\n",
        "print(value)\n",
        "\n",
        "value=\"Hello World\"\n",
        "print(value)\n",
        "\n",
        "value=True\n",
        "print(value)\n",
        "\n",
        "value=False\n",
        "print(value)\n",
        "\n",
        "value=[1,2,3,4,5]\n",
        "print(value)\n",
        "\n",
        "value=(1,2,3,4,5)\n",
        "print(value)\n",
        "\n",
        "value={'name': 'Your_name'}\n",
        "print(value)\n",
        "\n",
        "value=None\n",
        "print(value)"
      ],
      "metadata": {
        "colab": {
          "base_uri": "https://localhost:8080/"
        },
        "id": "sA29ChzuAuFP",
        "outputId": "b9c3dc60-0d4d-4938-b4ef-5c7c13d43712"
      },
      "execution_count": 11,
      "outputs": [
        {
          "output_type": "stream",
          "name": "stdout",
          "text": [
            "(2+3j)\n",
            "Hello World\n",
            "Hello World\n",
            "True\n",
            "False\n",
            "[1, 2, 3, 4, 5]\n",
            "(1, 2, 3, 4, 5)\n",
            "{'name': 'Your_name'}\n",
            "None\n"
          ]
        }
      ]
    },
    {
      "cell_type": "markdown",
      "source": [
        "6."
      ],
      "metadata": {
        "id": "s3Kg8sJAB_sI"
      }
    },
    {
      "cell_type": "code",
      "source": [
        "value = 5"
      ],
      "metadata": {
        "id": "I5ahLK7CCBa_"
      },
      "execution_count": 12,
      "outputs": []
    },
    {
      "cell_type": "markdown",
      "source": [
        "7."
      ],
      "metadata": {
        "id": "TvU-XGxaC2z_"
      }
    },
    {
      "cell_type": "code",
      "source": [
        "value2 = -6"
      ],
      "metadata": {
        "id": "HDgmI8n2C4X3"
      },
      "execution_count": 13,
      "outputs": []
    },
    {
      "cell_type": "markdown",
      "source": [
        "# Performing Operations with Python"
      ],
      "metadata": {
        "id": "mdO-NoQr9TJ3"
      }
    },
    {
      "cell_type": "markdown",
      "source": [
        "1."
      ],
      "metadata": {
        "id": "zbJ-KDPLELhw"
      }
    },
    {
      "cell_type": "code",
      "source": [
        "value = 5\n",
        "value2 = -6\n",
        "print(value + value2)"
      ],
      "metadata": {
        "colab": {
          "base_uri": "https://localhost:8080/"
        },
        "id": "nN9BX8dv9bs3",
        "outputId": "3babb7d2-429f-4bb2-e3cf-99441834ccc6"
      },
      "execution_count": 15,
      "outputs": [
        {
          "output_type": "stream",
          "name": "stdout",
          "text": [
            "-1\n"
          ]
        }
      ]
    },
    {
      "cell_type": "markdown",
      "source": [
        "2."
      ],
      "metadata": {
        "id": "7tVJoqlvENEf"
      }
    },
    {
      "cell_type": "code",
      "source": [
        "value, value2 = 5.0, 6\n",
        "print(value + value2)\n",
        "\n",
        "value, value2 = -5, 6.1\n",
        "print(value + value2)\n",
        "\n",
        "value, value2 = \"Hello\", \" world\"\n",
        "print(value + value2)\n",
        "\n",
        "value, value2 = [1, 2, 3], [4, 5, 6]\n",
        "print(value + value2)\n",
        "\n",
        "value, value2 = (1, 2, 3), (4, 5, 6)\n",
        "print(value + value2)\n",
        "\n",
        "value, value2 = {\"name\": \"Royce\"}, {\"age\": 2}\n",
        "print({**value, **value2})"
      ],
      "metadata": {
        "colab": {
          "base_uri": "https://localhost:8080/"
        },
        "id": "NxTWD-NMEQgI",
        "outputId": "497ad647-f150-4d99-bd12-79866d8171a7"
      },
      "execution_count": 22,
      "outputs": [
        {
          "output_type": "stream",
          "name": "stdout",
          "text": [
            "11.0\n",
            "1.0999999999999996\n",
            "Hello world\n",
            "[1, 2, 3, 4, 5, 6]\n",
            "(1, 2, 3, 4, 5, 6)\n",
            "{'name': 'Royce', 'age': 2}\n"
          ]
        }
      ]
    },
    {
      "cell_type": "markdown",
      "source": [
        "3."
      ],
      "metadata": {
        "id": "i-77Oz64FFYf"
      }
    },
    {
      "cell_type": "code",
      "source": [
        "value, value2 = 30, 4\n",
        "print(value * value2)\n",
        "print(value2**2)\n",
        "print(value2**3)\n",
        "print(value * value2 + value2**2 + 1)\n",
        "print(value / value2)\n",
        "print(value % value2)"
      ],
      "metadata": {
        "colab": {
          "base_uri": "https://localhost:8080/"
        },
        "id": "k1-eslGoFHEI",
        "outputId": "04fcfdc5-333e-4f9f-d9ea-21a849be371d"
      },
      "execution_count": 23,
      "outputs": [
        {
          "output_type": "stream",
          "name": "stdout",
          "text": [
            "120\n",
            "16\n",
            "64\n",
            "137\n",
            "7.5\n",
            "2\n"
          ]
        }
      ]
    },
    {
      "cell_type": "markdown",
      "source": [
        "# Receiving Input Data using Python"
      ],
      "metadata": {
        "id": "ruFYHQdt9ene"
      }
    },
    {
      "cell_type": "code",
      "source": [
        "name = input(\"Enter your name: \")\n",
        "print(\"Hello, \" + name + \"!\")"
      ],
      "metadata": {
        "colab": {
          "base_uri": "https://localhost:8080/"
        },
        "id": "n8xCU_M6FBXy",
        "outputId": "91a0f5d8-ff94-4e03-c97c-fd8f79d1e545"
      },
      "execution_count": 24,
      "outputs": [
        {
          "output_type": "stream",
          "name": "stdout",
          "text": [
            "Enter your name: Ken \n",
            "Hello, Ken !\n"
          ]
        }
      ]
    },
    {
      "cell_type": "markdown",
      "source": [
        "# Assigning Input Data to a Variable"
      ],
      "metadata": {
        "id": "qVOsqPNE9p6H"
      }
    },
    {
      "cell_type": "markdown",
      "source": [
        "1.\n"
      ],
      "metadata": {
        "id": "w_8SdZhOHzXJ"
      }
    },
    {
      "cell_type": "code",
      "source": [
        "name = input(\"Enter your name: \")"
      ],
      "metadata": {
        "colab": {
          "base_uri": "https://localhost:8080/"
        },
        "id": "Wuk5CO2VIAAA",
        "outputId": "98ca0af8-afe4-4446-edb5-2c5cd9d33748"
      },
      "execution_count": 30,
      "outputs": [
        {
          "name": "stdout",
          "output_type": "stream",
          "text": [
            "Enter your name: Asugas\n"
          ]
        }
      ]
    },
    {
      "cell_type": "markdown",
      "source": [
        "2."
      ],
      "metadata": {
        "id": "1YbNA43uHzNz"
      }
    },
    {
      "cell_type": "code",
      "source": [
        "weight = float(input(\"Enter your weight (kg): \"))"
      ],
      "metadata": {
        "colab": {
          "base_uri": "https://localhost:8080/"
        },
        "id": "FmyO58gCIAmo",
        "outputId": "4fa1dbae-7076-437a-f032-4d9c5c80ffe6"
      },
      "execution_count": 31,
      "outputs": [
        {
          "name": "stdout",
          "output_type": "stream",
          "text": [
            "Enter your weight (kg): 58\n"
          ]
        }
      ]
    },
    {
      "cell_type": "markdown",
      "source": [
        "3."
      ],
      "metadata": {
        "id": "qobH2Mr6HzCI"
      }
    },
    {
      "cell_type": "code",
      "source": [
        "height = float(input(\"Enter your height (m): \"))"
      ],
      "metadata": {
        "colab": {
          "base_uri": "https://localhost:8080/"
        },
        "id": "yIXvQeIXIBEo",
        "outputId": "a35aaf38-b297-4e63-da76-c9e4f9f9fb46"
      },
      "execution_count": 32,
      "outputs": [
        {
          "name": "stdout",
          "output_type": "stream",
          "text": [
            "Enter your height (m): 1.69\n"
          ]
        }
      ]
    },
    {
      "cell_type": "markdown",
      "source": [
        "4."
      ],
      "metadata": {
        "id": "jZFPKZsEHy5Q"
      }
    },
    {
      "cell_type": "code",
      "source": [
        "bmi = weight / (height**2)"
      ],
      "metadata": {
        "id": "4foJYzqaIBcI"
      },
      "execution_count": 33,
      "outputs": []
    },
    {
      "cell_type": "markdown",
      "source": [
        "5."
      ],
      "metadata": {
        "id": "yVvy88RWHyjQ"
      }
    },
    {
      "cell_type": "code",
      "source": [
        "bmi = weight / (height**2)"
      ],
      "metadata": {
        "id": "i4wcZBo5IB14"
      },
      "execution_count": 34,
      "outputs": []
    },
    {
      "cell_type": "markdown",
      "source": [
        "6."
      ],
      "metadata": {
        "id": "dT3tMGqSHwFY"
      }
    },
    {
      "cell_type": "code",
      "source": [
        "name= input(\"Enter your name: \")\n",
        "weight= float(input(\"Enter your weight: \"))\n",
        "height= float (input(\"Enter your height: \"))\n",
        "bmi= (weight)/(height)**2\n",
        "\n",
        "print(\"Name: \", name)\n",
        "print(\"Weight: \", weight)\n",
        "print(\"Height: \", height)\n",
        "print(\"BMI: \", bmi)"
      ],
      "metadata": {
        "colab": {
          "base_uri": "https://localhost:8080/"
        },
        "id": "35prvAhe9yA5",
        "outputId": "69e8af2f-e10d-4899-9151-b4b96f400a55"
      },
      "execution_count": 29,
      "outputs": [
        {
          "output_type": "stream",
          "name": "stdout",
          "text": [
            "Enter your name: Asugas\n",
            "Enter your weight: 58\n",
            "Enter your height: 1.69\n",
            "Name:  Asugas\n",
            "Weight:  58.0\n",
            "Height:  1.69\n",
            "BMI:  20.307412205454995\n"
          ]
        }
      ]
    }
  ]
}
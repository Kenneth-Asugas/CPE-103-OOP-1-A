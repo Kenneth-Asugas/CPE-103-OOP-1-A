{
  "nbformat": 4,
  "nbformat_minor": 0,
  "metadata": {
    "colab": {
      "provenance": [],
      "authorship_tag": "ABX9TyNdSgOYaHUl2fB1R8aBkeoD",
      "include_colab_link": true
    },
    "kernelspec": {
      "name": "python3",
      "display_name": "Python 3"
    },
    "language_info": {
      "name": "python"
    }
  },
  "cells": [
    {
      "cell_type": "markdown",
      "metadata": {
        "id": "view-in-github",
        "colab_type": "text"
      },
      "source": [
        "<a href=\"https://colab.research.google.com/github/Kenneth-Asugas/CPE-103-OOP-1-A/blob/main/Operations_and_Expressions.ipynb\" target=\"_parent\"><img src=\"https://colab.research.google.com/assets/colab-badge.svg\" alt=\"Open In Colab\"/></a>"
      ]
    },
    {
      "cell_type": "markdown",
      "source": [
        "Boolean Operators"
      ],
      "metadata": {
        "id": "Yj4pHK2OyBzW"
      }
    },
    {
      "cell_type": "code",
      "execution_count": 2,
      "metadata": {
        "colab": {
          "base_uri": "https://localhost:8080/"
        },
        "id": "cexfockmyBCe",
        "outputId": "f2f4c2c9-9821-4b7e-b796-ff74a8b5903c"
      },
      "outputs": [
        {
          "output_type": "stream",
          "name": "stdout",
          "text": [
            "True\n",
            "False\n",
            "False\n"
          ]
        }
      ],
      "source": [
        "print(10>9)\n",
        "print(10==9)\n",
        "print(10<9)"
      ]
    },
    {
      "cell_type": "markdown",
      "source": [
        "Bool() Function"
      ],
      "metadata": {
        "id": "ViKfKZQbzH4u"
      }
    },
    {
      "cell_type": "code",
      "source": [
        "print(bool(1))\n",
        "print(bool(0))\n",
        "print(bool(-2))"
      ],
      "metadata": {
        "colab": {
          "base_uri": "https://localhost:8080/"
        },
        "id": "6kDNGBdWyn7g",
        "outputId": "63207f35-08e7-4074-db8e-f3902b44f9fd"
      },
      "execution_count": 3,
      "outputs": [
        {
          "output_type": "stream",
          "name": "stdout",
          "text": [
            "True\n",
            "False\n",
            "True\n"
          ]
        }
      ]
    },
    {
      "cell_type": "markdown",
      "source": [
        "Functions can return a Boolean"
      ],
      "metadata": {
        "id": "HZ-boF6iz72e"
      }
    },
    {
      "cell_type": "code",
      "source": [
        "def myFunction():\n",
        "  return True\n",
        "\n",
        "print(myFunction())"
      ],
      "metadata": {
        "colab": {
          "base_uri": "https://localhost:8080/"
        },
        "id": "CLVcSKEO1Ve2",
        "outputId": "2080b213-2164-4ad1-bdd3-45bc75b487fc"
      },
      "execution_count": 7,
      "outputs": [
        {
          "output_type": "stream",
          "name": "stdout",
          "text": [
            "True\n"
          ]
        }
      ]
    },
    {
      "cell_type": "code",
      "source": [
        "def myFunction():\n",
        "  return False\n",
        "if myFunction():\n",
        "  print(\"YES!\")\n",
        "else:\n",
        "  print(\"NO!\")\n"
      ],
      "metadata": {
        "colab": {
          "base_uri": "https://localhost:8080/"
        },
        "id": "U7Itk5OyzhnO",
        "outputId": "22d1db0e-c372-470b-c292-b60bd4202b0c"
      },
      "execution_count": 10,
      "outputs": [
        {
          "output_type": "stream",
          "name": "stdout",
          "text": [
            "NO!\n"
          ]
        }
      ]
    },
    {
      "cell_type": "markdown",
      "source": [
        "Python Operators"
      ],
      "metadata": {
        "id": "0ogyoqOo2e63"
      }
    },
    {
      "cell_type": "code",
      "source": [
        "print(10+5)\n",
        "print(10-5)\n",
        "print(10*5)\n",
        "print(10/5)\n",
        "print(10**5)\n",
        "print(10//5)\n",
        "print(10%5)"
      ],
      "metadata": {
        "colab": {
          "base_uri": "https://localhost:8080/"
        },
        "id": "yIX-yHZf2lGG",
        "outputId": "ffcfdd49-b72f-4c6c-8fe8-c626000b5353"
      },
      "execution_count": 11,
      "outputs": [
        {
          "output_type": "stream",
          "name": "stdout",
          "text": [
            "15\n",
            "5\n",
            "50\n",
            "2.0\n",
            "100000\n",
            "2\n",
            "0\n"
          ]
        }
      ]
    },
    {
      "cell_type": "markdown",
      "source": [
        "Python Bitwise Operations"
      ],
      "metadata": {
        "id": "Ffc8whY13Zjg"
      }
    },
    {
      "cell_type": "code",
      "source": [
        "a=60\n",
        "b=13\n",
        "\n",
        "print(a&b)\n",
        "print(a|b)\n",
        "print(a^b)\n",
        "print(~a)\n",
        "print(a<<2)"
      ],
      "metadata": {
        "colab": {
          "base_uri": "https://localhost:8080/"
        },
        "id": "InowunGx4LWw",
        "outputId": "d54cb694-a488-4d59-e63a-485e8fa66c3a"
      },
      "execution_count": 19,
      "outputs": [
        {
          "output_type": "stream",
          "name": "stdout",
          "text": [
            "12\n",
            "61\n",
            "49\n",
            "-61\n",
            "240\n"
          ]
        }
      ]
    },
    {
      "cell_type": "markdown",
      "source": [
        "Python Assignment Operators"
      ],
      "metadata": {
        "id": "ESwjeBmI-niI"
      }
    },
    {
      "cell_type": "code",
      "source": [
        "x=3\n",
        "\n",
        "x +=3\n",
        "print(x)\n",
        "\n",
        "x -=3\n",
        "print(x)\n",
        "\n",
        "x *=3\n",
        "print(x)\n",
        "\n",
        "x /=3\n",
        "print(x)\n",
        "\n",
        "x %=3\n",
        "print(x)"
      ],
      "metadata": {
        "colab": {
          "base_uri": "https://localhost:8080/"
        },
        "id": "z7AtZ4b9-sif",
        "outputId": "9b610cfa-1286-480b-ab8d-326965cc8d0a"
      },
      "execution_count": 30,
      "outputs": [
        {
          "output_type": "stream",
          "name": "stdout",
          "text": [
            "6\n",
            "3\n",
            "9\n",
            "3.0\n",
            "0.0\n"
          ]
        }
      ]
    },
    {
      "cell_type": "markdown",
      "source": [
        "Logical Operators"
      ],
      "metadata": {
        "id": "B_2E6cF1CueZ"
      }
    },
    {
      "cell_type": "code",
      "source": [
        "10>9 and 9>10"
      ],
      "metadata": {
        "colab": {
          "base_uri": "https://localhost:8080/"
        },
        "id": "GbVOfFU4CxTQ",
        "outputId": "da5a34f5-1d31-4e63-b0b4-8b71931af0ff"
      },
      "execution_count": 31,
      "outputs": [
        {
          "output_type": "execute_result",
          "data": {
            "text/plain": [
              "False"
            ]
          },
          "metadata": {},
          "execution_count": 31
        }
      ]
    },
    {
      "cell_type": "code",
      "source": [
        "not(10>9 and 9>10)"
      ],
      "metadata": {
        "colab": {
          "base_uri": "https://localhost:8080/"
        },
        "id": "M7nOxikfGe3x",
        "outputId": "31104f10-f7fe-4be5-a7b6-6674976c9ed0"
      },
      "execution_count": 32,
      "outputs": [
        {
          "output_type": "execute_result",
          "data": {
            "text/plain": [
              "True"
            ]
          },
          "metadata": {},
          "execution_count": 32
        }
      ]
    },
    {
      "cell_type": "markdown",
      "source": [
        "Identity Operator"
      ],
      "metadata": {
        "id": "akCvetWcGn-B"
      }
    },
    {
      "cell_type": "code",
      "source": [
        "x=1\n",
        "y=2\n",
        "print(x is y)\n",
        "print(x is not y)"
      ],
      "metadata": {
        "colab": {
          "base_uri": "https://localhost:8080/"
        },
        "id": "voHVRcAqGrop",
        "outputId": "a43f847b-31f7-416a-b5e0-e73684254def"
      },
      "execution_count": 34,
      "outputs": [
        {
          "output_type": "stream",
          "name": "stdout",
          "text": [
            "False\n",
            "True\n"
          ]
        }
      ]
    },
    {
      "cell_type": "markdown",
      "source": [
        "Conditional Statement"
      ],
      "metadata": {
        "id": "_e9nkng-HI3B"
      }
    },
    {
      "cell_type": "markdown",
      "source": [
        "If Statement"
      ],
      "metadata": {
        "id": "tg1qOOe5IjMT"
      }
    },
    {
      "cell_type": "code",
      "source": [
        "a = 12\n",
        "b = 100\n",
        "\n",
        "if b > a:\n",
        "  print(\"b is greater than a\")"
      ],
      "metadata": {
        "colab": {
          "base_uri": "https://localhost:8080/"
        },
        "id": "0FFKg6rfL-gi",
        "outputId": "bbc5ac95-52b6-4cd4-e0bc-33e58708c207"
      },
      "execution_count": 48,
      "outputs": [
        {
          "output_type": "stream",
          "name": "stdout",
          "text": [
            "b is greater than a\n"
          ]
        }
      ]
    },
    {
      "cell_type": "markdown",
      "source": [
        "Elif Statements"
      ],
      "metadata": {
        "id": "EqTruc8lMWay"
      }
    },
    {
      "cell_type": "code",
      "source": [
        "a = 12\n",
        "b = 12\n",
        "\n",
        "if b > a:\n",
        "  print(\"b is greater than a\")\n",
        "elif a == b:\n",
        "  print(\"a and b are equal\")"
      ],
      "metadata": {
        "colab": {
          "base_uri": "https://localhost:8080/"
        },
        "id": "_Nipk9r9MaSD",
        "outputId": "9f62063f-4d4e-4313-bda6-c32d16b0c455"
      },
      "execution_count": 49,
      "outputs": [
        {
          "output_type": "stream",
          "name": "stdout",
          "text": [
            "a and b are equal\n"
          ]
        }
      ]
    },
    {
      "cell_type": "markdown",
      "source": [
        "Else Statements"
      ],
      "metadata": {
        "id": "7Jn77dL8MkVK"
      }
    },
    {
      "cell_type": "code",
      "source": [
        "a = 200\n",
        "b = 33\n",
        "\n",
        "if b > a:\n",
        "  print(\"b is greater than a\")\n",
        "elif a == b:\n",
        "  print(\"a and b are equal\")\n",
        "else:\n",
        "  print(\"a is greater than b\")"
      ],
      "metadata": {
        "colab": {
          "base_uri": "https://localhost:8080/"
        },
        "id": "u3LZQn1TMpaT",
        "outputId": "217f927b-7585-4fb0-d8f7-97c5418f5f15"
      },
      "execution_count": 50,
      "outputs": [
        {
          "output_type": "stream",
          "name": "stdout",
          "text": [
            "a is greater than b\n"
          ]
        }
      ]
    },
    {
      "cell_type": "markdown",
      "source": [
        "Short Hand If Statement"
      ],
      "metadata": {
        "id": "xmDKbRYnNcrT"
      }
    },
    {
      "cell_type": "code",
      "source": [
        "if a > b : print(\"a is greater than b\")"
      ],
      "metadata": {
        "colab": {
          "base_uri": "https://localhost:8080/"
        },
        "id": "JpoVKOvMNj7T",
        "outputId": "e43f7dc3-56c0-455f-d703-90c4a7182e8b"
      },
      "execution_count": 51,
      "outputs": [
        {
          "output_type": "stream",
          "name": "stdout",
          "text": [
            "a is greater than b\n"
          ]
        }
      ]
    },
    {
      "cell_type": "markdown",
      "source": [
        "Short Hand If..Else Statement"
      ],
      "metadata": {
        "id": "yxk9E2AUNx0y"
      }
    },
    {
      "cell_type": "code",
      "source": [
        "a = 2\n",
        "b = 330\n",
        "\n",
        "print(\"A\") if a > b else print(\"B\")"
      ],
      "metadata": {
        "colab": {
          "base_uri": "https://localhost:8080/"
        },
        "id": "gS3dpLQDN5QE",
        "outputId": "adb96b0f-da56-4198-f918-bbec8e7e88fb"
      },
      "execution_count": 52,
      "outputs": [
        {
          "output_type": "stream",
          "name": "stdout",
          "text": [
            "B\n"
          ]
        }
      ]
    },
    {
      "cell_type": "markdown",
      "source": [
        "And-both conditions are true"
      ],
      "metadata": {
        "id": "NBrmDt7hOAEb"
      }
    },
    {
      "cell_type": "code",
      "source": [
        "a = 200\n",
        "b = 33\n",
        "c = 500\n",
        "\n",
        "if a > b and c > a:\n",
        "  print(\"Both conditions are True\")"
      ],
      "metadata": {
        "colab": {
          "base_uri": "https://localhost:8080/"
        },
        "id": "kkC0hSTTOGc6",
        "outputId": "647cd260-aedd-4e37-c06f-27900289e227"
      },
      "execution_count": 53,
      "outputs": [
        {
          "output_type": "stream",
          "name": "stdout",
          "text": [
            "Both conditions are True\n"
          ]
        }
      ]
    },
    {
      "cell_type": "markdown",
      "source": [
        "Or-at least one of the conditions is true"
      ],
      "metadata": {
        "id": "KAKX8xPCOUKa"
      }
    },
    {
      "cell_type": "code",
      "source": [
        "a = 200\n",
        "b = 33\n",
        "c = 500\n",
        "\n",
        "if a > b or a > c:\n",
        "  print(\"At least one of the conditions is True\")"
      ],
      "metadata": {
        "colab": {
          "base_uri": "https://localhost:8080/"
        },
        "id": "p9ux31P8Obqq",
        "outputId": "240495b8-7714-487a-b002-1ad7a91371e1"
      },
      "execution_count": 54,
      "outputs": [
        {
          "output_type": "stream",
          "name": "stdout",
          "text": [
            "At least one of the conditions is True\n"
          ]
        }
      ]
    },
    {
      "cell_type": "markdown",
      "source": [
        "Nested If Else"
      ],
      "metadata": {
        "id": "iCUkLQ69Pitb"
      }
    },
    {
      "cell_type": "code",
      "source": [
        "x = float(input(\"Enter a number: \"))\n",
        "\n",
        "if x > 10:\n",
        "  print(\"Above Ten\")\n",
        "  if x > 20:\n",
        "    print(\"Above Twenty\")\n",
        "    if x > 30:\n",
        "      print(\"Above Thirty\")\n",
        "      if x > 40:\n",
        "        print(\"Above Fourty\")\n",
        "        if x > 50:\n",
        "          print(\"Above Fifty\")\n",
        "        else:\n",
        "          print(\"Below Fifty\")\n",
        "      else:\n",
        "        print(\"Below Fourty\")\n",
        "    else:\n",
        "      print(\"Below Thirty\")\n",
        "  else:\n",
        "    print(\"Below Twenty\")\n",
        "else:\n",
        "  print(\"Below Ten\")"
      ],
      "metadata": {
        "colab": {
          "base_uri": "https://localhost:8080/"
        },
        "id": "D2b82msXPoAi",
        "outputId": "a02504aa-c6ce-4a73-8abd-91e5cbe011e8"
      },
      "execution_count": 64,
      "outputs": [
        {
          "output_type": "stream",
          "name": "stdout",
          "text": [
            "Enter a number: 41\n",
            "Above Ten\n",
            "Above Twenty\n",
            "Above Thirty\n",
            "Above Fourty\n",
            "Below Fifty\n"
          ]
        }
      ]
    },
    {
      "cell_type": "markdown",
      "source": [
        "ACTIVITY"
      ],
      "metadata": {
        "id": "b3vqWpVgXYdt"
      }
    },
    {
      "cell_type": "markdown",
      "source": [
        "Ex. #1"
      ],
      "metadata": {
        "id": "3Cubcu7jYV2F"
      }
    },
    {
      "cell_type": "code",
      "source": [
        "a = float(input(\"Enter you Age: \"))\n",
        "\n",
        "if a >= 18:\n",
        "  print(\"You are eligible to vote\")\n",
        "else:\n",
        "  print(\"You are not eligible to vote\")"
      ],
      "metadata": {
        "colab": {
          "base_uri": "https://localhost:8080/"
        },
        "id": "SDp15lmgXfv1",
        "outputId": "69bb6f0b-a6c8-4e1b-d835-6e6c19a8f6b4"
      },
      "execution_count": 65,
      "outputs": [
        {
          "output_type": "stream",
          "name": "stdout",
          "text": [
            "Enter you Age: 17\n",
            "You are not eligible to vote\n"
          ]
        }
      ]
    },
    {
      "cell_type": "markdown",
      "source": [
        "Ex. #2"
      ],
      "metadata": {
        "id": "X0Mz42p-YcV8"
      }
    },
    {
      "cell_type": "code",
      "source": [
        "a = float(input(\"Enter a Number: \"))\n",
        "\n",
        "if a > 0:\n",
        "  print(\"Positive\")\n",
        "elif a < 0:\n",
        "  print(\"Negative\")\n",
        "else:\n",
        "  print(\"Zero\")"
      ],
      "metadata": {
        "colab": {
          "base_uri": "https://localhost:8080/"
        },
        "id": "w4qWcVCyYfAE",
        "outputId": "c26513f2-ff71-49f4-b531-816965cb738f"
      },
      "execution_count": 69,
      "outputs": [
        {
          "output_type": "stream",
          "name": "stdout",
          "text": [
            "Enter a Number: -4\n",
            "Negative\n"
          ]
        }
      ]
    },
    {
      "cell_type": "markdown",
      "source": [
        "Ex. #3"
      ],
      "metadata": {
        "id": "ozkV87Q-Y6pF"
      }
    },
    {
      "cell_type": "code",
      "source": [
        "a = float(input(\"Enter your Grade: \"))\n",
        "\n",
        "if a >= 75:\n",
        "  print(\"Passed\")\n",
        "elif a == 74:\n",
        "  print(\"Remedial\")\n",
        "else:\n",
        "  print(\"Failed\")"
      ],
      "metadata": {
        "colab": {
          "base_uri": "https://localhost:8080/"
        },
        "id": "zpzNScbAY84k",
        "outputId": "956a7db5-43e5-4467-ef0f-2b16c9f6df44"
      },
      "execution_count": 72,
      "outputs": [
        {
          "output_type": "stream",
          "name": "stdout",
          "text": [
            "Enter your Grade: 71\n",
            "Failed\n"
          ]
        }
      ]
    }
  ]
}
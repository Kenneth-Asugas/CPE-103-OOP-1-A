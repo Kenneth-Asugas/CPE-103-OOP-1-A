{
  "nbformat": 4,
  "nbformat_minor": 0,
  "metadata": {
    "colab": {
      "provenance": [],
      "authorship_tag": "ABX9TyPEbHLAE6XtdYfnB4JRsEsr",
      "include_colab_link": true
    },
    "kernelspec": {
      "name": "python3",
      "display_name": "Python 3"
    },
    "language_info": {
      "name": "python"
    }
  },
  "cells": [
    {
      "cell_type": "markdown",
      "metadata": {
        "id": "view-in-github",
        "colab_type": "text"
      },
      "source": [
        "<a href=\"https://colab.research.google.com/github/Kenneth-Asugas/CPE-103-OOP-1-A/blob/main/Laboratory_5.ipynb\" target=\"_parent\"><img src=\"https://colab.research.google.com/assets/colab-badge.svg\" alt=\"Open In Colab\"/></a>"
      ]
    },
    {
      "cell_type": "markdown",
      "source": [
        "Exploring built-in functions"
      ],
      "metadata": {
        "id": "Lfm-gzYViQWb"
      }
    },
    {
      "cell_type": "code",
      "execution_count": 1,
      "metadata": {
        "colab": {
          "base_uri": "https://localhost:8080/"
        },
        "id": "00DL22AxaPaA",
        "outputId": "b7f9ac8b-7e74-4b21-8d79-5ab88ff49332"
      },
      "outputs": [
        {
          "output_type": "stream",
          "name": "stdout",
          "text": [
            "Propositional logic evaluator for discrete math\n",
            "How many variables? 2\n",
            "Enter the propositional logic expression: 10\n",
            "A B f\n",
            "0 0 10\n",
            "0 1 10\n",
            "1 0 10\n",
            "1 1 10\n"
          ]
        }
      ],
      "source": [
        "# Propositional logic evaluator for discrete math for 2-3 variables\n",
        "print(\"Propositional logic evaluator for discrete math\")\n",
        "\n",
        "variables = int(input(\"How many variables? \"))\n",
        "total_combinations = 2**variables\n",
        "\n",
        "combinations_list = [] # store all the possible combinations\n",
        "\n",
        "# generate the combinations\n",
        "for i in range(total_combinations):\n",
        "    bin_equivalent = bin(i)[2:]\n",
        "\n",
        "    while len(bin_equivalent) < variables:\n",
        "        bin_equivalent = \"0\" + bin_equivalent\n",
        "\n",
        "    combinations_list.append(tuple(int(val) for val in bin_equivalent))\n",
        "    # this will generate a list with values [(0,0), (0,1), (1,0), (1,1)]\n",
        "\n",
        "# main program\n",
        "expression = input(\"Enter the propositional logic expression: \")\n",
        "\n",
        "# note: Only the Letters A, B, and C are allowed to be used\n",
        "# example: not (A and B) or (A and C)\n",
        "\n",
        "if variables == 2:\n",
        "    print(\"A B f\")\n",
        "\n",
        "    for A, B in combinations_list:\n",
        "        evaluated_expression = eval(expression)\n",
        "        print(A, B, evaluated_expression)\n",
        "\n",
        "elif variables == 3:\n",
        "    print(\"A B C f\")\n",
        "    for A, B, C in combinations_list:\n",
        "        evaluated_expression = eval(expression)\n",
        "        print(A, B, C, evaluated_expression)"
      ]
    },
    {
      "cell_type": "markdown",
      "source": [
        "Using the open() function for file handling"
      ],
      "metadata": {
        "id": "72iXhQToimkr"
      }
    },
    {
      "cell_type": "code",
      "source": [
        "name = \"Royce Chua\"\n",
        "file = open(\"newfile1.txt\", 'w')\n",
        "file.write(f\"Hello, {name}!\\n\")\n",
        "file.write(\"Isn't this amazing!\\n\")\n",
        "file.write(\"that we can create and write on text files\\n\")\n",
        "file.write(\"using Python.\")\n",
        "file.close()"
      ],
      "metadata": {
        "id": "ipNfQc1FirUq"
      },
      "execution_count": 2,
      "outputs": []
    },
    {
      "cell_type": "code",
      "source": [
        "name = \"Royce Chua\"\n",
        "file = open(\"new.txt\", 'w')\n",
        "\n",
        "file.write(f\"Hello, {name}!\\n\")\n",
        "file.write(\"This was created using Python!\\n\")\n",
        "file.close()\n",
        "\n",
        "file = open(\"newfile1.txt\", \"r\")\n",
        "data = file.read()\n",
        "print(data)\n",
        "file.close()\n",
        "\n",
        "file = open(\"newfile1.txt\", 'a')\n",
        "file.write(\"and also by the programmer of course. \")\n",
        "file.close()"
      ],
      "metadata": {
        "colab": {
          "base_uri": "https://localhost:8080/"
        },
        "id": "5mxlgxYYjWaS",
        "outputId": "cadadfa5-1309-4da5-9f5f-8ede35a1ae3b"
      },
      "execution_count": 4,
      "outputs": [
        {
          "output_type": "stream",
          "name": "stdout",
          "text": [
            "Hello, Royce Chua!\n",
            "Isn't this amazing!\n",
            "that we can create and write on text files\n",
            "using Python.and also by the programmer of course. \n"
          ]
        }
      ]
    },
    {
      "cell_type": "markdown",
      "source": [
        "User-defined Functions"
      ],
      "metadata": {
        "id": "dTkQRV0BirpZ"
      }
    },
    {
      "cell_type": "code",
      "source": [
        "def generate_truthtable(number_of_variables):\n",
        "    total_combinations = 2**number_of_variables\n",
        "    combinations_list = []\n",
        "    for i in range(total_combinations):\n",
        "        bin_equivalent = bin(i)[2:]\n",
        "        while len(bin_equivalent) < number_of_variables:\n",
        "            bin_equivalent = \"0\" + bin_equivalent\n",
        "        combinations_list.append(tuple(int(val) for val in bin_equivalent))\n",
        "    return combinations_list\n",
        "\n",
        "print(generate_truthtable(3))"
      ],
      "metadata": {
        "colab": {
          "base_uri": "https://localhost:8080/"
        },
        "id": "pYK87YESiuor",
        "outputId": "afc53bd9-a654-415b-f843-223e5cf71e15"
      },
      "execution_count": 5,
      "outputs": [
        {
          "output_type": "stream",
          "name": "stdout",
          "text": [
            "[(0, 0, 0), (0, 0, 1), (0, 1, 0), (0, 1, 1), (1, 0, 0), (1, 0, 1), (1, 1, 0), (1, 1, 1)]\n"
          ]
        }
      ]
    },
    {
      "cell_type": "code",
      "source": [
        "def generate_truthtable(number_of_variables):\n",
        "    if number_of_variables == 0:\n",
        "        return \"You need to enter an integer\"\n",
        "    else:\n",
        "        total_combinations = 2**number_of_variables\n",
        "        combinations_list = []\n",
        "    for i in range(total_combinations):\n",
        "        bin_equivalent = bin(i)[2:]\n",
        "        while len(bin_equivalent) < number_of_variables:\n",
        "            bin_equivalent = \"0\" + bin_equivalent\n",
        "        combinations_list.append(tuple(int(val) for val in bin_equivalent))\n",
        "    return combinations_list\n",
        "\n",
        "print(generate_truthtable(3))"
      ],
      "metadata": {
        "colab": {
          "base_uri": "https://localhost:8080/"
        },
        "id": "0NYnFzROjqk4",
        "outputId": "5fbf09b9-2e89-44d9-8a9d-023fae8eae33"
      },
      "execution_count": 6,
      "outputs": [
        {
          "output_type": "stream",
          "name": "stdout",
          "text": [
            "[(0, 0, 0), (0, 0, 1), (0, 1, 0), (0, 1, 1), (1, 0, 0), (1, 0, 1), (1, 1, 0), (1, 1, 1)]\n"
          ]
        }
      ]
    },
    {
      "cell_type": "markdown",
      "source": [
        "## Modules"
      ],
      "metadata": {
        "id": "8e_PtQCqjw2R"
      }
    },
    {
      "cell_type": "markdown",
      "source": [
        "Built-in Modules math module"
      ],
      "metadata": {
        "id": "F-xwIqqZiu68"
      }
    },
    {
      "cell_type": "code",
      "source": [
        "import math\n",
        "\n",
        "def quadratic_formula(a,b,c):\n",
        "    if b**2-(4*a*c) < 0:\n",
        "        x1 = (complex(-b,math.floor(math.sqrt(abs(b**2-(4*a*c))))))/(2*a)\n",
        "        x2 = (complex(-b,-1*math.floor(math.sqrt(abs(b**2-(4*a*c))))))/(2*a)\n",
        "        return x1, x2\n",
        "    else:\n",
        "        x1 = (-b+math.sqrt(b**2-(4*a*c)))/(2*a)\n",
        "        x2 = (-b-math.sqrt(b**2-(4*a*c)))/(2*a)\n",
        "        return x1, x2\n",
        "\n",
        "print(quadratic_formula(1,2,3))"
      ],
      "metadata": {
        "colab": {
          "base_uri": "https://localhost:8080/"
        },
        "id": "fQDyTG2Zi24Z",
        "outputId": "4443b456-9c5a-4411-f36f-ce575f43fdc0"
      },
      "execution_count": 7,
      "outputs": [
        {
          "output_type": "stream",
          "name": "stdout",
          "text": [
            "((-1+1j), (-1-1j))\n"
          ]
        }
      ]
    },
    {
      "cell_type": "code",
      "source": [
        "import math\n",
        "\n",
        "def angle_demo():\n",
        "    angle = math.sin(math.pi/2)\n",
        "\n",
        "    print(angle)\n",
        "\n",
        "    angle = math.sin(math.radians(90))\n",
        "\n",
        "    print(angle)\n",
        "\n",
        "angle_demo()"
      ],
      "metadata": {
        "colab": {
          "base_uri": "https://localhost:8080/"
        },
        "id": "xDqerOwXkHgQ",
        "outputId": "8a14bbda-35e4-4e55-f3ce-1a589d39694c"
      },
      "execution_count": 8,
      "outputs": [
        {
          "output_type": "stream",
          "name": "stdout",
          "text": [
            "1.0\n",
            "1.0\n"
          ]
        }
      ]
    },
    {
      "cell_type": "markdown",
      "source": [
        "time and datetime module"
      ],
      "metadata": {
        "id": "4hVHCFYni4EL"
      }
    },
    {
      "cell_type": "code",
      "source": [
        "import time\n",
        "\n",
        "def pause():\n",
        "    for i in range(10,0,-1):\n",
        "        print(f\"The program will end in {i}..\")\n",
        "        time.sleep(1)\n",
        "\n",
        "pause()"
      ],
      "metadata": {
        "colab": {
          "base_uri": "https://localhost:8080/"
        },
        "id": "gcSZwrUui-Xx",
        "outputId": "1f800bc7-ce8d-494f-9812-5053dc8e03dd"
      },
      "execution_count": 9,
      "outputs": [
        {
          "output_type": "stream",
          "name": "stdout",
          "text": [
            "The program will end in 10..\n",
            "The program will end in 9..\n",
            "The program will end in 8..\n",
            "The program will end in 7..\n",
            "The program will end in 6..\n",
            "The program will end in 5..\n",
            "The program will end in 4..\n",
            "The program will end in 3..\n",
            "The program will end in 2..\n",
            "The program will end in 1..\n"
          ]
        }
      ]
    },
    {
      "cell_type": "code",
      "source": [
        "def current_time():\n",
        "    t = time.strftime(\"%I:%M%p\")\n",
        "    return t\n",
        "\n",
        "print(current_time())"
      ],
      "metadata": {
        "id": "KTPseO9TkV3I"
      },
      "execution_count": 11,
      "outputs": []
    },
    {
      "cell_type": "code",
      "source": [
        "def current_date():\n",
        "    d = time.strftime(\"%b %d %Y\")\n",
        "    return d\n",
        "\n",
        "print(current_date())"
      ],
      "metadata": {
        "id": "MUTbmAoRkj5Z"
      },
      "execution_count": 12,
      "outputs": []
    },
    {
      "cell_type": "markdown",
      "source": [
        "User-defined Modules"
      ],
      "metadata": {
        "id": "n5sLhtn1i-uK"
      }
    },
    {
      "cell_type": "code",
      "source": [
        "import time\n",
        "\n",
        "def pause():\n",
        "    for i in range(10, 0, -1):\n",
        "        print(f\"The program will end in {i}..\")\n",
        "        time.sleep(1)\n",
        "\n",
        "def current_time():\n",
        "    t = time.strftime(\"%I:%M%p\")\n",
        "    return t\n",
        "\n",
        "def current_date():\n",
        "    d = time.strftime(\"%b %d %Y\")\n",
        "    return d\n",
        "\n",
        "print(\"The current time is\", current_time())\n",
        "print(\"The current date is\", current_date())"
      ],
      "metadata": {
        "id": "OhPlhPanjDlx"
      },
      "execution_count": 14,
      "outputs": []
    },
    {
      "cell_type": "markdown",
      "source": [
        "# Supplementary Activity"
      ],
      "metadata": {
        "id": "Bko5nxg_llVA"
      }
    },
    {
      "cell_type": "markdown",
      "source": [
        "1."
      ],
      "metadata": {
        "id": "wUAfrsmSmmV2"
      }
    },
    {
      "cell_type": "code",
      "source": [
        "text = \"this is a example of bad words like stupid , dumb and idiot\"\n",
        "censored_text = \"\"\n",
        "\n",
        "for i in text.split(\" \"):\n",
        "    if i.lower() in ['stupid', 'dumb', 'idiot']:\n",
        "        censored_text += \"*\" * len(i) + \" \"\n",
        "    else:\n",
        "        censored_text += i + \" \"\n",
        "\n",
        "print(censored_text)"
      ],
      "metadata": {
        "colab": {
          "base_uri": "https://localhost:8080/"
        },
        "id": "7vpztArclz7g",
        "outputId": "fb0ad9e2-3510-441a-c021-c869cd6b7cb0"
      },
      "execution_count": 19,
      "outputs": [
        {
          "output_type": "stream",
          "name": "stdout",
          "text": [
            "this is a example of bad words like ****** , **** and ***** \n"
          ]
        }
      ]
    },
    {
      "cell_type": "markdown",
      "source": [
        "2."
      ],
      "metadata": {
        "id": "4yI33oU7mnc1"
      }
    },
    {
      "cell_type": "code",
      "source": [
        "import math\n",
        "\n",
        "def solve_projectile_motion(angle_deg, velocity):\n",
        "    g = 9.8\n",
        "    angle_rad = math.radians(angle_deg)\n",
        "\n",
        "    range_dist = (velocity ** 2) * math.sin(2 * angle_rad) / g\n",
        "    max_height = (velocity ** 2) * (math.sin(angle_rad) ** 2) / (2 * g)\n",
        "\n",
        "    return round(range_dist, 4), round(max_height, 4)\n",
        "\n",
        "angle = 20.0\n",
        "speed = 11.0\n",
        "r, h = solve_projectile_motion(angle, speed)\n",
        "print(f\"Range/Distance: {r} meters\")\n",
        "print(f\"Maximum Height: {h} meters\")"
      ],
      "metadata": {
        "colab": {
          "base_uri": "https://localhost:8080/"
        },
        "id": "-RA5NtQimoV1",
        "outputId": "355b22cc-a894-4457-afde-056aafdbad56"
      },
      "execution_count": 23,
      "outputs": [
        {
          "output_type": "stream",
          "name": "stdout",
          "text": [
            "Range/Distance: 7.9365 meters\n",
            "Maximum Height: 0.7222 meters\n"
          ]
        }
      ]
    },
    {
      "cell_type": "markdown",
      "source": [
        "3."
      ],
      "metadata": {
        "id": "23bGGDWrmonF"
      }
    },
    {
      "cell_type": "code",
      "source": [
        "import math\n",
        "\n",
        "a = float(input(\"Enter value for a: \"))\n",
        "b = float(input(\"Enter value for b: \"))\n",
        "c = float(input(\"Enter value for c: \"))\n",
        "\n",
        "if a == 0:\n",
        "    print(\"This is not a quadratic equation (a cannot be 0).\")\n",
        "else:\n",
        "    discriminant = b**2 - 4*a*c\n",
        "\n",
        "    if discriminant > 0:\n",
        "        root1 = (-b + math.sqrt(discriminant)) / (2 * a)\n",
        "        root2 = (-b - math.sqrt(discriminant)) / (2 * a)\n",
        "        solution = f\"Two real roots: {root1} and {root2}\"\n",
        "    elif discriminant == 0:\n",
        "        root = -b / (2 * a)\n",
        "        solution = f\"One real root: {root}\"\n",
        "    else:\n",
        "        solution = \"No real roots\"\n",
        "\n",
        "    print(\"Solution:\", solution)\n",
        "\n",
        "    with open(\"quadratic_log.txt\", \"a\") as file:\n",
        "        file.write(f\"Equation: {a}x² + {b}x + {c} = 0\\n\")\n",
        "        file.write(f\"Result: {solution}\\n\")\n",
        "        file.write(\"-\" * 30 + \"\\n\")"
      ],
      "metadata": {
        "colab": {
          "base_uri": "https://localhost:8080/"
        },
        "id": "flgcIjQsmptm",
        "outputId": "dba46aec-9e77-4e28-dff7-67f6263f4e2f"
      },
      "execution_count": 26,
      "outputs": [
        {
          "output_type": "stream",
          "name": "stdout",
          "text": [
            "Enter value for a: 1\n",
            "Enter value for b: -3\n",
            "Enter value for c: 2\n",
            "Solution: Two real roots: 2.0 and 1.0\n"
          ]
        }
      ]
    }
  ]
}
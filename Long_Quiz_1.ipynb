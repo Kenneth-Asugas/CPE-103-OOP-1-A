{
  "nbformat": 4,
  "nbformat_minor": 0,
  "metadata": {
    "colab": {
      "provenance": [],
      "authorship_tag": "ABX9TyMMydQBT+Sip8a+4xWlJitP",
      "include_colab_link": true
    },
    "kernelspec": {
      "name": "python3",
      "display_name": "Python 3"
    },
    "language_info": {
      "name": "python"
    }
  },
  "cells": [
    {
      "cell_type": "markdown",
      "metadata": {
        "id": "view-in-github",
        "colab_type": "text"
      },
      "source": [
        "<a href=\"https://colab.research.google.com/github/Kenneth-Asugas/CPE-103-OOP-1-A/blob/main/Long_Quiz_1.ipynb\" target=\"_parent\"><img src=\"https://colab.research.google.com/assets/colab-badge.svg\" alt=\"Open In Colab\"/></a>"
      ]
    },
    {
      "cell_type": "code",
      "source": [
        "class Student:\n",
        "    def __init__(self, student_id, name, program, sex, weight, height):\n",
        "        self.student_id = student_id\n",
        "        self.name = name\n",
        "        self.program = program\n",
        "        self.sex = sex\n",
        "        self.weight = weight\n",
        "        self.height = height\n",
        "        self.courses = {}\n",
        "\n",
        "    def enroll(self, course):\n",
        "        if course not in self.courses:\n",
        "            self.courses[course] = {'quiz': 0, 'seatwork': 0, 'assignment': 0, 'recitation': 0, 'midterm': 0, 'final': 0}\n",
        "        else:\n",
        "            print(f\"Already enrolled in {course}.\")\n",
        "\n",
        "    def update_grades(self, course, quiz, seatwork, assignment, recitaion):\n",
        "        if course in self.courses:\n",
        "            self.courses[course]['quiz'] = quiz\n",
        "            self.courses[course]['seatwork'] = seatwork\n",
        "            self.courses[course]['assignment'] = assignment\n",
        "            self.courses[course]['recitation'] = recitaion\n",
        "            print(f\"Grades updated for {course}.\")\n",
        "        else:\n",
        "            print(f\"Student not enrolled in {course}.\")\n",
        "\n",
        "    def compute_final_grade(self, course):\n",
        "        if course in self.courses:\n",
        "          data = self.courses[course]\n",
        "          midterm = (data['quiz'] * 0.3) + (data['seatwork'] * 0.2) + (data['assignment'] * 0.3) + (data['recitation'] * 0.2)\n",
        "          final = midterm\n",
        "          self.courses[course]['midterm'] = midterm\n",
        "          self.courses[course]['final'] = final\n",
        "        else:\n",
        "             print(f\"Course {course} not found\")\n",
        "\n",
        "    def view_courses(self):\n",
        "        print(f\"{self.name}'s Courses and Grades:\")\n",
        "        for course, grades in self.courses.items():\n",
        "          print(f\"{course}: Midterm - {grades['midterm']:.2f}, Final - {grades['final']:.2f}\")\n",
        "\n",
        "    def __str__(self):\n",
        "        return f\"ID: {self.student_id}, Name: {self.name}, Program: {self.program}, Sex: {self.sex}, Weight: {self.weight}, Height: {self.height}\"\n",
        "\n",
        "#student objects\n",
        "ana = Student(\"20250001\", \"Ana\", \"CPE\", \"F\", 40, 150)\n",
        "mench = Student(\"20250002\", \"Mench\", \"CPE\", \"F\", 45, 155)\n",
        "john = Student(\"20250003\", \"John\", \"CPE\", \"M\", 55, 165)\n",
        "\n",
        "#enrolling students\n",
        "ana.enroll(\"CPE103\")\n",
        "mench.enroll(\"CPE103\")\n",
        "john.enroll(\"CPE103\")\n",
        "\n",
        "#updating grades\n",
        "ana.update_grades(\"CPE103\", 86, 90, 93, 80)\n",
        "mench.update_grades(\"CPE103\", 79, 88, 90, 89)\n",
        "john.update_grades(\"CPE103\", 94, 87, 86, 85)\n",
        "\n",
        "#computing final grades\n",
        "ana.compute_final_grade(\"CPE103\")\n",
        "mench.compute_final_grade(\"CPE103\")\n",
        "john.compute_final_grade(\"CPE103\")\n",
        "print()\n",
        "\n",
        "print(ana)\n",
        "print(mench)\n",
        "print(john)\n",
        "print()\n",
        "\n",
        "#viewing scores\n",
        "ana.view_courses()\n",
        "print()\n",
        "mench.view_courses()\n",
        "print()\n",
        "john.view_courses()"
      ],
      "metadata": {
        "colab": {
          "base_uri": "https://localhost:8080/"
        },
        "id": "R1cwYl_KBt7f",
        "outputId": "6cabd386-7ec6-48e0-abf9-8bbd770115ea"
      },
      "execution_count": 49,
      "outputs": [
        {
          "output_type": "stream",
          "name": "stdout",
          "text": [
            "Grades updated for CPE103.\n",
            "Grades updated for CPE103.\n",
            "Grades updated for CPE103.\n",
            "\n",
            "ID: 20250001, Name: Ana, Program: CPE, Sex: F, Weight: 40, Height: 150\n",
            "ID: 20250002, Name: Mench, Program: CPE, Sex: F, Weight: 45, Height: 155\n",
            "ID: 20250003, Name: John, Program: CPE, Sex: M, Weight: 55, Height: 165\n",
            "\n",
            "Ana's Courses and Grades:\n",
            "CPE103: Midterm - 87.70, Final - 87.70\n",
            "\n",
            "Mench's Courses and Grades:\n",
            "CPE103: Midterm - 86.10, Final - 86.10\n",
            "\n",
            "John's Courses and Grades:\n",
            "CPE103: Midterm - 88.40, Final - 88.40\n"
          ]
        }
      ]
    }
  ]
}
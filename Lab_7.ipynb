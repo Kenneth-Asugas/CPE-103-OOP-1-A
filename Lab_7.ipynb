{
  "nbformat": 4,
  "nbformat_minor": 0,
  "metadata": {
    "colab": {
      "provenance": [],
      "authorship_tag": "ABX9TyOaQFikSY3zXBXvR4rNMmEO",
      "include_colab_link": true
    },
    "kernelspec": {
      "name": "python3",
      "display_name": "Python 3"
    },
    "language_info": {
      "name": "python"
    }
  },
  "cells": [
    {
      "cell_type": "markdown",
      "metadata": {
        "id": "view-in-github",
        "colab_type": "text"
      },
      "source": [
        "<a href=\"https://colab.research.google.com/github/Kenneth-Asugas/CPE-103-OOP-1-A/blob/main/Lab_7.ipynb\" target=\"_parent\"><img src=\"https://colab.research.google.com/assets/colab-badge.svg\" alt=\"Open In Colab\"/></a>"
      ]
    },
    {
      "cell_type": "markdown",
      "source": [
        "Creating the Classes"
      ],
      "metadata": {
        "id": "TVL0KuoDJotC"
      }
    },
    {
      "cell_type": "code",
      "execution_count": null,
      "metadata": {
        "id": "t8xgC4cm8dIp",
        "outputId": "539585b8-74f3-4115-d3e6-9f78e3bd8250",
        "colab": {
          "base_uri": "https://localhost:8080/"
        }
      },
      "outputs": [
        {
          "output_type": "stream",
          "name": "stdout",
          "text": [
            "Feet=  5 Inches=  10\n",
            "Enter feet and inches of distance1: 10 20\n",
            "Enter feet and inches of distance2: 30 40\n",
            "Distance2 is greater or equal to Distance1\n",
            "Sum of the two Distance is:\n",
            "Feet=  41 Inches=  48\n",
            "Enter feet and inches of distance1: 123 52\n",
            "Enter feet and inches of distance2: 69 147\n",
            "Distance1 is greater than Distance2\n"
          ]
        }
      ],
      "source": [
        "# distance is a class. Distance is measured in terms of feet and inches\n",
        "class distance:\n",
        "  def __init__(self, f, i):\n",
        "    self.feet=f\n",
        "    self.inches=i\n",
        "\n",
        "  # overloading of binary operator > to compare two distances\n",
        "  def __gt__(self, d):\n",
        "    if(self.feet>d.feet):\n",
        "      return(True)\n",
        "    elif((self.feet==d.feet) and (self.inches>d.inches)):\n",
        "      return(True)\n",
        "    else:\n",
        "      return(False)\n",
        "\n",
        "  # overloading of binary operator + to add two distances\n",
        "  def __add__(self, d):\n",
        "    i=self.inches + d.inches\n",
        "    f=self.feet + d.feet\n",
        "    if(i>=12):\n",
        "      i=i-12\n",
        "      f=f+1\n",
        "      return distance(f,i)\n",
        "\n",
        "  # displaying the distance\n",
        "  def show(self):\n",
        "    print(\"Feet= \", self.feet, \"Inches= \",self.inches)\n",
        "    a,b = (input(\"Enter feet and inches of distance1: \")).split()\n",
        "    a,b =[int(a),int(b)]\n",
        "    c,d= (input(\"Enter feet and inches of distance2: \")).split()\n",
        "    c,d =[int(c),int(d)]\n",
        "    d1 = distance(a,b)\n",
        "    d2 = distance(c,d)\n",
        "\n",
        "    if(d1>d2):\n",
        "      print(\"Distance1 is greater than Distance2\")\n",
        "    else:\n",
        "      print(\"Distance2 is greater or equal to Distance1\")\n",
        "      d3=d1+d2\n",
        "      print(\"Sum of the two Distance is:\")\n",
        "      d3.show()\n",
        "\n",
        "dis = distance(5,10)\n",
        "dis.show()"
      ]
    },
    {
      "cell_type": "markdown",
      "source": [
        "Testing and Observing Polymorphism"
      ],
      "metadata": {
        "id": "0FVaC08-LOim"
      }
    },
    {
      "cell_type": "code",
      "source": [
        "class RegularPolygon:\n",
        "    def __init__(self, side):\n",
        "        self._side = side\n",
        "\n",
        "class Square(RegularPolygon):\n",
        "    def area(self):\n",
        "        return self._side * self._side\n",
        "\n",
        "class EquilateralTriangle(RegularPolygon):\n",
        "    def area(self):\n",
        "        return self._side * self._side * 0.433\n",
        "\n",
        "obj1 = Square(4)\n",
        "obj2 = EquilateralTriangle(3)\n",
        "\n",
        "print(obj1.area())\n",
        "print(obj2.area())"
      ],
      "metadata": {
        "id": "vorhFjdPLHW3",
        "outputId": "c76e4f7b-6e7a-4e78-f9f3-4549ab81a915",
        "colab": {
          "base_uri": "https://localhost:8080/"
        }
      },
      "execution_count": null,
      "outputs": [
        {
          "output_type": "stream",
          "name": "stdout",
          "text": [
            "16\n",
            "3.897\n"
          ]
        }
      ]
    },
    {
      "cell_type": "markdown",
      "source": [
        "Supplementary Activity"
      ],
      "metadata": {
        "id": "CbcUWosnAjK6"
      }
    },
    {
      "cell_type": "code",
      "source": [
        "import math\n",
        "\n",
        "class RegularPolygon:\n",
        "  def __init__(self, side):\n",
        "    self._side = side\n",
        "\n",
        "class Square(RegularPolygon):\n",
        "  def area(self):\n",
        "    return self._side * self._side\n",
        "\n",
        "class EquilateralTriangle(RegularPolygon):\n",
        "  def area(self):\n",
        "    return self._side * self._side * 0.433\n",
        "\n",
        "class Pentagon(RegularPolygon):\n",
        "  def area(self):\n",
        "    return (1/4) * math.sqrt(5 * (5 + 2 * math.sqrt(5))) * self._side**2\n",
        "\n",
        "class Hexagon(RegularPolygon):\n",
        "  def area(self):\n",
        "    return ((3 * math.sqrt(3)) / 2) * self._side**2\n",
        "\n",
        "class Parallelogram(RegularPolygon):\n",
        "  def __init__(self, side, base, height):\n",
        "    super().__init__(side)\n",
        "    self._base = base\n",
        "    self._height = height\n",
        "  def area(self):\n",
        "    return self._base * self._height\n",
        "\n",
        "obj1 = Square(5)\n",
        "obj2 = EquilateralTriangle(6)\n",
        "obj3 = Pentagon(5)\n",
        "obj4 = Hexagon(6)\n",
        "obj5 = Parallelogram(0, 6, 5)\n",
        "\n",
        "print(\"Area of Square:\", obj1.area())\n",
        "print(\"Area of Equilateral Triangle:\", obj2.area())\n",
        "print(\"Area of Pentagon:\", obj3.area())\n",
        "print(\"Area of Hexagon:\", obj4.area())\n",
        "print(\"Area of Parallelogram:\", obj5.area())"
      ],
      "metadata": {
        "id": "Bu3glw3pAnZB",
        "outputId": "c2ffe40f-685f-4ced-83f3-fba7b3c08808",
        "colab": {
          "base_uri": "https://localhost:8080/"
        }
      },
      "execution_count": 9,
      "outputs": [
        {
          "output_type": "stream",
          "name": "stdout",
          "text": [
            "Area of Square: 25\n",
            "Area of Equilateral Triangle: 15.588\n",
            "Area of Pentagon: 43.01193501472417\n",
            "Area of Hexagon: 93.53074360871938\n",
            "Area of Parallelogram: 30\n"
          ]
        }
      ]
    }
  ]
}
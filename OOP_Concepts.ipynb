{
  "nbformat": 4,
  "nbformat_minor": 0,
  "metadata": {
    "colab": {
      "provenance": [],
      "authorship_tag": "ABX9TyNiinfTrklPkdjtvW1ysbP+",
      "include_colab_link": true
    },
    "kernelspec": {
      "name": "python3",
      "display_name": "Python 3"
    },
    "language_info": {
      "name": "python"
    }
  },
  "cells": [
    {
      "cell_type": "markdown",
      "metadata": {
        "id": "view-in-github",
        "colab_type": "text"
      },
      "source": [
        "<a href=\"https://colab.research.google.com/github/Kenneth-Asugas/CPE-103-OOP-1-A/blob/main/OOP_Concepts.ipynb\" target=\"_parent\"><img src=\"https://colab.research.google.com/assets/colab-badge.svg\" alt=\"Open In Colab\"/></a>"
      ]
    },
    {
      "cell_type": "markdown",
      "source": [
        "Class Constructor"
      ],
      "metadata": {
        "id": "VL5z2BH48Ff-"
      }
    },
    {
      "cell_type": "code",
      "execution_count": 12,
      "metadata": {
        "id": "Vrp6v9Ns70jZ"
      },
      "outputs": [],
      "source": [
        "class Car:\n",
        "    car_type = \"Sedan\"\n",
        "\n",
        "    def __init__(self, name, mileage):\n",
        "        self.name = name\n",
        "        self.mileage = mileage\n",
        "\n",
        "    def description(self):\n",
        "        return \"The {self.name} car gives the mileage of {self.mileage}km/l\"\n",
        "\n",
        "    def max_speed(self, speed):\n",
        "        return \"The {self.name} runs at the maximum speed of {speed}km/hr\""
      ]
    },
    {
      "cell_type": "markdown",
      "source": [
        "Methods"
      ],
      "metadata": {
        "id": "kJVN5tNu_XA-"
      }
    },
    {
      "cell_type": "markdown",
      "source": [
        "Multiple Objects with the same class"
      ],
      "metadata": {
        "id": "ih5xcw8zAq34"
      }
    },
    {
      "cell_type": "code",
      "source": [
        "class Car:      #parent class\n",
        "\n",
        "    def __init__(self, name, mileage):\n",
        "        self.name = name\n",
        "        self.mileage = mileage\n",
        "\n",
        "    def description(self):\n",
        "        return f\"The {self.name} car gives the mileage of {self.mileage}km/l\"\n",
        "\n",
        "class BMW(Car): #child class\n",
        "    pass\n",
        "\n",
        "class Audi(Car):  #child class\n",
        "    def audi_desc(self):\n",
        "        return \"This is the description method of class Audi.\"\n",
        "\n",
        "bmw = BMW(\"BMW 7-series\", 39.53)\n",
        "print(bmw.description())\n",
        "\n",
        "audi = Audi(\"Audi A8-L\", 14)\n",
        "print(audi.description())\n",
        "print(audi.audi_desc())"
      ],
      "metadata": {
        "colab": {
          "base_uri": "https://localhost:8080/"
        },
        "id": "du6puIXBAE3m",
        "outputId": "9dbf30d5-2ad3-4101-b39c-f29e749c8b35"
      },
      "execution_count": 22,
      "outputs": [
        {
          "output_type": "stream",
          "name": "stdout",
          "text": [
            "The BMW 7-series car gives the mileage of 39.53km/l\n",
            "The Audi A8-L car gives the mileage of 14km/l\n",
            "This is the description method of class Audi.\n"
          ]
        }
      ]
    },
    {
      "cell_type": "markdown",
      "source": [
        "Apply the OOP Concept like class constructor, methods, inheritance, object imfantation to describe the sides of shapes (e.g. Triangle, Square, Rectangle)"
      ],
      "metadata": {
        "id": "b0bqTpktElVl"
      }
    },
    {
      "cell_type": "code",
      "source": [
        "class Shapes:\n",
        "  def __init__(self, name, sides):\n",
        "    self.name = name\n",
        "    self.sides = sides\n",
        "\n",
        "  def describe_sides(self):\n",
        "    return f\"The {self.name} has {self.sides} sides.\"\n",
        "\n",
        "class Pentagon(Shapes):\n",
        "  pass\n",
        "\n",
        "class Hexagon(Shapes):\n",
        "  pass\n",
        "\n",
        "class Heptagon(Shapes):\n",
        "  pass\n",
        "\n",
        "pentagon = Pentagon(\"Pentagon\",5)\n",
        "print(pentagon.describe_sides())\n",
        "\n",
        "hexagon = Hexagon(\"Hexagon\",6)\n",
        "print(hexagon.describe_sides())\n",
        "\n",
        "heptagon = Heptagon(\"Heptagon\",7)\n",
        "print(heptagon.describe_sides())\n",
        ""
      ],
      "metadata": {
        "colab": {
          "base_uri": "https://localhost:8080/"
        },
        "id": "LdennUn1FB4t",
        "outputId": "b35b87b7-927a-4c28-d225-6789b86a9df9"
      },
      "execution_count": 31,
      "outputs": [
        {
          "output_type": "stream",
          "name": "stdout",
          "text": [
            "The Pentagon has 5 sides.\n",
            "The Hexagon has 6 sides.\n",
            "The Heptagon has 7 sides.\n"
          ]
        }
      ]
    }
  ]
}
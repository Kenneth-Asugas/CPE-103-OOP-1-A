{
  "nbformat": 4,
  "nbformat_minor": 0,
  "metadata": {
    "colab": {
      "provenance": [],
      "authorship_tag": "ABX9TyPavuip2hVqXPDXprENM7mB",
      "include_colab_link": true
    },
    "kernelspec": {
      "name": "python3",
      "display_name": "Python 3"
    },
    "language_info": {
      "name": "python"
    }
  },
  "cells": [
    {
      "cell_type": "markdown",
      "metadata": {
        "id": "view-in-github",
        "colab_type": "text"
      },
      "source": [
        "<a href=\"https://colab.research.google.com/github/Kenneth-Asugas/CPE-103-OOP-1-A/blob/main/Laboratory_4.ipynb\" target=\"_parent\"><img src=\"https://colab.research.google.com/assets/colab-badge.svg\" alt=\"Open In Colab\"/></a>"
      ]
    },
    {
      "cell_type": "markdown",
      "source": [
        "# Procedure"
      ],
      "metadata": {
        "id": "rfPBjtRC3Cqx"
      }
    },
    {
      "cell_type": "markdown",
      "source": [
        "Lists"
      ],
      "metadata": {
        "id": "o6v2o-hd1656"
      }
    },
    {
      "cell_type": "code",
      "source": [
        "numberlist = [5,4,2,1,3]\n",
        "len(numberlist)\n",
        "print(numberlist[0])\n",
        "print(numberlist[1])\n",
        "print(numberlist[2])\n",
        "print(numberlist[3])\n",
        "print(numberlist[4])\n",
        "print(numberlist[-1])\n",
        "print(numberlist[-2])\n",
        "print(numberlist[-3])\n",
        "print(numberlist[-4])\n",
        "print(numberlist[-5])"
      ],
      "metadata": {
        "id": "NwA_HOAc15cy",
        "outputId": "e29716ea-beee-482f-9877-ede2a292c7f1",
        "colab": {
          "base_uri": "https://localhost:8080/"
        }
      },
      "execution_count": 1,
      "outputs": [
        {
          "output_type": "stream",
          "name": "stdout",
          "text": [
            "5\n",
            "4\n",
            "2\n",
            "1\n",
            "3\n",
            "3\n",
            "1\n",
            "2\n",
            "4\n",
            "5\n"
          ]
        }
      ]
    },
    {
      "cell_type": "code",
      "source": [
        "itemlist = [1,-2.0,[1,2,3],\"World\"]\n",
        "len(itemlist)\n",
        "print(itemlist[0])\n",
        "print(itemlist[1])\n",
        "print(itemlist[2])\n",
        "print(itemlist[3])\n",
        "len(itemlist[2])\n",
        "print(itemlist[2][0])\n",
        "print(itemlist[2][1])\n",
        "print(itemlist[2][2])\n",
        "print(itemlist[-1])\n",
        "print(itemlist[-2])\n",
        "print(itemlist[-3])\n",
        "print(itemlist[-4])\n",
        "len(itemlist[-2])\n",
        "print(itemlist[-2][0])\n",
        "print(itemlist[-2][1])\n",
        "print(itemlist[-2][2])\n",
        "print(itemlist[-2][-3])\n",
        "print(itemlist[-2][-2])\n",
        "print(itemlist[-2][-1])"
      ],
      "metadata": {
        "id": "2uhrPkHs3oMw",
        "outputId": "01ecfd23-83d0-4e78-ba88-b479ebc591b8",
        "colab": {
          "base_uri": "https://localhost:8080/"
        }
      },
      "execution_count": 2,
      "outputs": [
        {
          "output_type": "stream",
          "name": "stdout",
          "text": [
            "1\n",
            "-2.0\n",
            "[1, 2, 3]\n",
            "World\n",
            "1\n",
            "2\n",
            "3\n",
            "World\n",
            "[1, 2, 3]\n",
            "-2.0\n",
            "1\n",
            "1\n",
            "2\n",
            "3\n",
            "1\n",
            "2\n",
            "3\n"
          ]
        }
      ]
    },
    {
      "cell_type": "markdown",
      "source": [
        "Index Slicing"
      ],
      "metadata": {
        "id": "jQY4E_b514lj"
      }
    },
    {
      "cell_type": "code",
      "source": [
        "numberlist = [5, 4, 2, 1, 3]\n",
        "itemlist = [1, -2.0, [1, 2, 3], \"Word\"]\n",
        "longlist = numberlist + itemlist\n",
        "\n",
        "len(longlist)\n",
        "print(longlist[:])\n",
        "print(longlist[:9])\n",
        "print(longlist[0:])\n",
        "print(longlist[1:])\n",
        "print(longlist[2:])\n",
        "\n",
        "# Index Slicing with Range\n",
        "print(longlist[2:5])\n",
        "print(longlist[5:2])\n",
        "print(longlist[8:])\n",
        "print(longlist[9:])\n",
        "\n",
        "# Index Slicing using Negative Indices\n",
        "print(longlist[-9:])\n",
        "print(longlist[-8:])\n",
        "print(longlist[-8:-7])\n",
        "print(longlist[-1:])\n",
        "\n",
        "# Other properties of Index Slicing\n",
        "print(longlist[10:20])\n",
        "print(longlist[-7:5])\n",
        "\n",
        "#Index Slicing with Step parameter\n",
        "print(longlist[::1])\n",
        "print(longlist[::2])\n",
        "print(longlist[1:8:2])\n",
        "print(longlist[9:1:-1])\n",
        "print(longlist[-1::1])\n",
        "print(longlist[-1::-1])"
      ],
      "metadata": {
        "id": "uUwbLAV817LR",
        "outputId": "595fdd8e-e4af-44e2-9126-90fac82df3bc",
        "colab": {
          "base_uri": "https://localhost:8080/"
        }
      },
      "execution_count": 3,
      "outputs": [
        {
          "output_type": "stream",
          "name": "stdout",
          "text": [
            "[5, 4, 2, 1, 3, 1, -2.0, [1, 2, 3], 'Word']\n",
            "[5, 4, 2, 1, 3, 1, -2.0, [1, 2, 3], 'Word']\n",
            "[5, 4, 2, 1, 3, 1, -2.0, [1, 2, 3], 'Word']\n",
            "[4, 2, 1, 3, 1, -2.0, [1, 2, 3], 'Word']\n",
            "[2, 1, 3, 1, -2.0, [1, 2, 3], 'Word']\n",
            "[2, 1, 3]\n",
            "[]\n",
            "['Word']\n",
            "[]\n",
            "[5, 4, 2, 1, 3, 1, -2.0, [1, 2, 3], 'Word']\n",
            "[4, 2, 1, 3, 1, -2.0, [1, 2, 3], 'Word']\n",
            "[4]\n",
            "['Word']\n",
            "[]\n",
            "[2, 1, 3]\n",
            "[5, 4, 2, 1, 3, 1, -2.0, [1, 2, 3], 'Word']\n",
            "[5, 2, 3, -2.0, 'Word']\n",
            "[4, 1, 1, [1, 2, 3]]\n",
            "['Word', [1, 2, 3], -2.0, 1, 3, 1, 2]\n",
            "['Word']\n",
            "['Word', [1, 2, 3], -2.0, 1, 3, 1, 2, 4, 5]\n"
          ]
        }
      ]
    },
    {
      "cell_type": "markdown",
      "source": [
        "List Methods and the Mutable Property of Lists"
      ],
      "metadata": {
        "id": "YW_LhYkL2o_p"
      }
    },
    {
      "cell_type": "code",
      "source": [
        "numberlist = [5, 4, 2, 1, 3]\n",
        "\n",
        "numberlist2 = numberlist\n",
        "\n",
        "\n",
        "print(\"numberlist:\", numberlist)\n",
        "\n",
        "print(\"numberlist2:\", numberlist2)\n",
        "\n",
        "numberlist[0] = 6\n",
        "\n",
        "\n",
        "print(\"numberlist after change:\", numberlist)\n",
        "\n",
        "\n",
        "print(\"numberlist2 after change:\", numberlist2)\n",
        "\n",
        "numberlist2 = numberlist.copy()\n",
        "\n",
        "\n",
        "print(\"numberlist2 after copying:\", numberlist2)\n",
        "\n",
        "numberlist[0] = 5\n",
        "\n",
        "print(\"numberlist after second change:\", numberlist)\n",
        "\n",
        "\n",
        "print(\"numberlist2 after second change:\", numberlist2)"
      ],
      "metadata": {
        "id": "Y99SXBiC2qBh",
        "outputId": "65829149-2ab6-4bf8-da15-2c53f1f4ea09",
        "colab": {
          "base_uri": "https://localhost:8080/"
        }
      },
      "execution_count": 4,
      "outputs": [
        {
          "output_type": "stream",
          "name": "stdout",
          "text": [
            "numberlist: [5, 4, 2, 1, 3]\n",
            "numberlist2: [5, 4, 2, 1, 3]\n",
            "numberlist after change: [6, 4, 2, 1, 3]\n",
            "numberlist2 after change: [6, 4, 2, 1, 3]\n",
            "numberlist2 after copying: [6, 4, 2, 1, 3]\n",
            "numberlist after second change: [5, 4, 2, 1, 3]\n",
            "numberlist2 after second change: [6, 4, 2, 1, 3]\n"
          ]
        }
      ]
    },
    {
      "cell_type": "markdown",
      "source": [
        "Exploring some List Functions and Methods"
      ],
      "metadata": {
        "id": "L0GElms72qt6"
      }
    },
    {
      "cell_type": "code",
      "source": [
        "numberlist = [5, 4, 2, 1, 3]\n",
        "\n",
        "print(\"numberlist:\", numberlist)\n",
        "\n",
        "numberlist.append(6)\n",
        "\n",
        "print(\"numberlist after append:\", numberlist)\n",
        "\n",
        "numberlist.pop()\n",
        "\n",
        "print(\"numberlist after pop:\", numberlist)\n",
        "\n",
        "numberlist.sort()\n",
        "\n",
        "print(\"numberlist after sort:\", numberlist)\n",
        "\n",
        "print(\"min(numberlist):\", min(numberlist))\n",
        "print(\"max(numberlist):\", max(numberlist))\n",
        "\n",
        "\n",
        "longlist = numberlist + itemlist\n",
        "print(\"longlist:\", longlist)\n",
        "\n",
        "\n",
        "print(\"longlist.count(1):\", longlist.count(1))\n",
        "\n",
        "\n",
        "print(\"longlist[7].count(1):\", longlist[7].count(1))"
      ],
      "metadata": {
        "id": "c62zmjQq2yAp",
        "outputId": "a223f29f-7c14-427d-991c-a260f6d128b0",
        "colab": {
          "base_uri": "https://localhost:8080/"
        }
      },
      "execution_count": 6,
      "outputs": [
        {
          "output_type": "stream",
          "name": "stdout",
          "text": [
            "numberlist: [5, 4, 2, 1, 3]\n",
            "numberlist after append: [5, 4, 2, 1, 3, 6]\n",
            "numberlist after pop: [5, 4, 2, 1, 3]\n",
            "numberlist after sort: [1, 2, 3, 4, 5]\n",
            "min(numberlist): 1\n",
            "max(numberlist): 5\n",
            "longlist: [1, 2, 3, 4, 5, 1, -2.0, [1, 2, 3], 'Word']\n",
            "longlist.count(1): 2\n",
            "longlist[7].count(1): 1\n"
          ]
        }
      ]
    },
    {
      "cell_type": "markdown",
      "source": [
        "The in operator"
      ],
      "metadata": {
        "id": "OVrVeWGh2yhA"
      }
    },
    {
      "cell_type": "code",
      "source": [
        "print(3 in longlist)\n",
        "\n",
        "print(15 in longlist)\n",
        "\n",
        "num = int(input(\"Enter a number: \"))\n",
        "if num in longlist:\n",
        "    print(\"The number is in longlist\")\n",
        "else:\n",
        "    print(\"The number is not in longlist\")"
      ],
      "metadata": {
        "id": "jcW7_G06210p",
        "outputId": "07258a8d-0b77-4850-b02e-dacdee044310",
        "colab": {
          "base_uri": "https://localhost:8080/"
        }
      },
      "execution_count": 7,
      "outputs": [
        {
          "output_type": "stream",
          "name": "stdout",
          "text": [
            "True\n",
            "False\n",
            "Enter a number: 4\n",
            "The number is in longlist\n"
          ]
        }
      ]
    },
    {
      "cell_type": "markdown",
      "source": [
        "Using a list in an iterative statement"
      ],
      "metadata": {
        "id": "cle87vsJ22aJ"
      }
    },
    {
      "cell_type": "code",
      "source": [
        "for item in longlist:\n",
        "    print(item)\n",
        "\n",
        "i = 0\n",
        "\n",
        "while i < len(longlist):\n",
        "    print(longlist[i])\n",
        "    i += 1"
      ],
      "metadata": {
        "id": "Ho-X8OgQ240Z",
        "outputId": "46a344f6-6884-48bd-f0e7-0ea5effd8497",
        "colab": {
          "base_uri": "https://localhost:8080/"
        }
      },
      "execution_count": 8,
      "outputs": [
        {
          "output_type": "stream",
          "name": "stdout",
          "text": [
            "1\n",
            "2\n",
            "3\n",
            "4\n",
            "5\n",
            "1\n",
            "-2.0\n",
            "[1, 2, 3]\n",
            "Word\n",
            "1\n",
            "2\n",
            "3\n",
            "4\n",
            "5\n",
            "1\n",
            "-2.0\n",
            "[1, 2, 3]\n",
            "Word\n"
          ]
        }
      ]
    },
    {
      "cell_type": "markdown",
      "source": [
        "Strings"
      ],
      "metadata": {
        "id": "l87UNnBj25Wa"
      }
    },
    {
      "cell_type": "code",
      "source": [
        "message = \"Hello World\"\n",
        "\n",
        "print(message)\n",
        "\n",
        "print(len(message))"
      ],
      "metadata": {
        "id": "OnHE5n7E29vS",
        "outputId": "d46f0d6b-e458-4351-9fef-e0a1e54944d6",
        "colab": {
          "base_uri": "https://localhost:8080/"
        }
      },
      "execution_count": 9,
      "outputs": [
        {
          "output_type": "stream",
          "name": "stdout",
          "text": [
            "Hello World\n",
            "11\n"
          ]
        }
      ]
    },
    {
      "cell_type": "code",
      "source": [
        "print(message[0])\n",
        "print(message[1])\n",
        "print(message[2])\n",
        "print(message[3])\n",
        "print(message[4])\n",
        "print(message[5])\n",
        "print(message[-11])\n",
        "print(message[-10])\n",
        "print(message[-9])\n",
        "print(message[-8])\n",
        "print(message[-7])"
      ],
      "metadata": {
        "id": "1bNjWJRD4hKA",
        "outputId": "b4dbfa0a-c537-4a76-d32d-7d6cccc18c78",
        "colab": {
          "base_uri": "https://localhost:8080/"
        }
      },
      "execution_count": 10,
      "outputs": [
        {
          "output_type": "stream",
          "name": "stdout",
          "text": [
            "H\n",
            "e\n",
            "l\n",
            "l\n",
            "o\n",
            " \n",
            "H\n",
            "e\n",
            "l\n",
            "l\n",
            "o\n"
          ]
        }
      ]
    },
    {
      "cell_type": "code",
      "source": [
        "print(message[0] + message[4] + message[3] + message[10])"
      ],
      "metadata": {
        "id": "IbKLDbY84qG_",
        "outputId": "5b3cf1fd-2faa-40f2-a575-c313e47182b9",
        "colab": {
          "base_uri": "https://localhost:8080/"
        }
      },
      "execution_count": 11,
      "outputs": [
        {
          "output_type": "stream",
          "name": "stdout",
          "text": [
            "Hold\n"
          ]
        }
      ]
    },
    {
      "cell_type": "code",
      "source": [
        "print(message[0:5])"
      ],
      "metadata": {
        "id": "PS1jsKfM4sBn",
        "outputId": "76217203-5673-4559-9952-ff59de2627e0",
        "colab": {
          "base_uri": "https://localhost:8080/"
        }
      },
      "execution_count": 12,
      "outputs": [
        {
          "output_type": "stream",
          "name": "stdout",
          "text": [
            "Hello\n"
          ]
        }
      ]
    },
    {
      "cell_type": "code",
      "source": [
        "print(message[6:])"
      ],
      "metadata": {
        "id": "UX_WwidC4sl2",
        "outputId": "2662d699-6b65-44b4-d6f4-9ffba2276bc5",
        "colab": {
          "base_uri": "https://localhost:8080/"
        }
      },
      "execution_count": 13,
      "outputs": [
        {
          "output_type": "stream",
          "name": "stdout",
          "text": [
            "World\n"
          ]
        }
      ]
    },
    {
      "cell_type": "markdown",
      "source": [
        "String Methods"
      ],
      "metadata": {
        "id": "JU-nCpln2-DI"
      }
    },
    {
      "cell_type": "code",
      "source": [
        "message = \"Hello World\"\n",
        "print(message.upper())\n",
        "print(message.lower())\n",
        "print(message.title())\n",
        "print(\"Value 1 is {}, and value 2 is {}\".format(-1, True))\n",
        "print(message.split(' '))\n",
        "print(message.count('l'))\n",
        "print(message.replace('World', 'CPE009'))\n",
        "message = message.replace('World', 'CPE009')"
      ],
      "metadata": {
        "id": "sdMIQ_gk3Br4",
        "outputId": "adb8e963-71c0-455b-a46e-9e1dbd09f6ea",
        "colab": {
          "base_uri": "https://localhost:8080/"
        }
      },
      "execution_count": 14,
      "outputs": [
        {
          "output_type": "stream",
          "name": "stdout",
          "text": [
            "HELLO WORLD\n",
            "hello world\n",
            "Hello World\n",
            "Value 1 is -1, and value 2 is True\n",
            "['Hello', 'World']\n",
            "3\n",
            "Hello CPE009\n"
          ]
        }
      ]
    },
    {
      "cell_type": "code",
      "source": [
        "help(\"\")"
      ],
      "metadata": {
        "id": "1jFbxj2O422P",
        "outputId": "2c83576a-9e41-4c6e-faeb-d8fc73a9192d",
        "colab": {
          "base_uri": "https://localhost:8080/"
        }
      },
      "execution_count": 15,
      "outputs": [
        {
          "output_type": "stream",
          "name": "stdout",
          "text": [
            "Help on class str in module builtins:\n",
            "\n",
            "class str(object)\n",
            " |  str(object='') -> str\n",
            " |  str(bytes_or_buffer[, encoding[, errors]]) -> str\n",
            " |  \n",
            " |  Create a new string object from the given object. If encoding or\n",
            " |  errors is specified, then the object must expose a data buffer\n",
            " |  that will be decoded using the given encoding and error handler.\n",
            " |  Otherwise, returns the result of object.__str__() (if defined)\n",
            " |  or repr(object).\n",
            " |  encoding defaults to sys.getdefaultencoding().\n",
            " |  errors defaults to 'strict'.\n",
            " |  \n",
            " |  Methods defined here:\n",
            " |  \n",
            " |  __add__(self, value, /)\n",
            " |      Return self+value.\n",
            " |  \n",
            " |  __contains__(self, key, /)\n",
            " |      Return key in self.\n",
            " |  \n",
            " |  __eq__(self, value, /)\n",
            " |      Return self==value.\n",
            " |  \n",
            " |  __format__(self, format_spec, /)\n",
            " |      Return a formatted version of the string as described by format_spec.\n",
            " |  \n",
            " |  __ge__(self, value, /)\n",
            " |      Return self>=value.\n",
            " |  \n",
            " |  __getattribute__(self, name, /)\n",
            " |      Return getattr(self, name).\n",
            " |  \n",
            " |  __getitem__(self, key, /)\n",
            " |      Return self[key].\n",
            " |  \n",
            " |  __getnewargs__(...)\n",
            " |  \n",
            " |  __gt__(self, value, /)\n",
            " |      Return self>value.\n",
            " |  \n",
            " |  __hash__(self, /)\n",
            " |      Return hash(self).\n",
            " |  \n",
            " |  __iter__(self, /)\n",
            " |      Implement iter(self).\n",
            " |  \n",
            " |  __le__(self, value, /)\n",
            " |      Return self<=value.\n",
            " |  \n",
            " |  __len__(self, /)\n",
            " |      Return len(self).\n",
            " |  \n",
            " |  __lt__(self, value, /)\n",
            " |      Return self<value.\n",
            " |  \n",
            " |  __mod__(self, value, /)\n",
            " |      Return self%value.\n",
            " |  \n",
            " |  __mul__(self, value, /)\n",
            " |      Return self*value.\n",
            " |  \n",
            " |  __ne__(self, value, /)\n",
            " |      Return self!=value.\n",
            " |  \n",
            " |  __repr__(self, /)\n",
            " |      Return repr(self).\n",
            " |  \n",
            " |  __rmod__(self, value, /)\n",
            " |      Return value%self.\n",
            " |  \n",
            " |  __rmul__(self, value, /)\n",
            " |      Return value*self.\n",
            " |  \n",
            " |  __sizeof__(self, /)\n",
            " |      Return the size of the string in memory, in bytes.\n",
            " |  \n",
            " |  __str__(self, /)\n",
            " |      Return str(self).\n",
            " |  \n",
            " |  capitalize(self, /)\n",
            " |      Return a capitalized version of the string.\n",
            " |      \n",
            " |      More specifically, make the first character have upper case and the rest lower\n",
            " |      case.\n",
            " |  \n",
            " |  casefold(self, /)\n",
            " |      Return a version of the string suitable for caseless comparisons.\n",
            " |  \n",
            " |  center(self, width, fillchar=' ', /)\n",
            " |      Return a centered string of length width.\n",
            " |      \n",
            " |      Padding is done using the specified fill character (default is a space).\n",
            " |  \n",
            " |  count(...)\n",
            " |      S.count(sub[, start[, end]]) -> int\n",
            " |      \n",
            " |      Return the number of non-overlapping occurrences of substring sub in\n",
            " |      string S[start:end].  Optional arguments start and end are\n",
            " |      interpreted as in slice notation.\n",
            " |  \n",
            " |  encode(self, /, encoding='utf-8', errors='strict')\n",
            " |      Encode the string using the codec registered for encoding.\n",
            " |      \n",
            " |      encoding\n",
            " |        The encoding in which to encode the string.\n",
            " |      errors\n",
            " |        The error handling scheme to use for encoding errors.\n",
            " |        The default is 'strict' meaning that encoding errors raise a\n",
            " |        UnicodeEncodeError.  Other possible values are 'ignore', 'replace' and\n",
            " |        'xmlcharrefreplace' as well as any other name registered with\n",
            " |        codecs.register_error that can handle UnicodeEncodeErrors.\n",
            " |  \n",
            " |  endswith(...)\n",
            " |      S.endswith(suffix[, start[, end]]) -> bool\n",
            " |      \n",
            " |      Return True if S ends with the specified suffix, False otherwise.\n",
            " |      With optional start, test S beginning at that position.\n",
            " |      With optional end, stop comparing S at that position.\n",
            " |      suffix can also be a tuple of strings to try.\n",
            " |  \n",
            " |  expandtabs(self, /, tabsize=8)\n",
            " |      Return a copy where all tab characters are expanded using spaces.\n",
            " |      \n",
            " |      If tabsize is not given, a tab size of 8 characters is assumed.\n",
            " |  \n",
            " |  find(...)\n",
            " |      S.find(sub[, start[, end]]) -> int\n",
            " |      \n",
            " |      Return the lowest index in S where substring sub is found,\n",
            " |      such that sub is contained within S[start:end].  Optional\n",
            " |      arguments start and end are interpreted as in slice notation.\n",
            " |      \n",
            " |      Return -1 on failure.\n",
            " |  \n",
            " |  format(...)\n",
            " |      S.format(*args, **kwargs) -> str\n",
            " |      \n",
            " |      Return a formatted version of S, using substitutions from args and kwargs.\n",
            " |      The substitutions are identified by braces ('{' and '}').\n",
            " |  \n",
            " |  format_map(...)\n",
            " |      S.format_map(mapping) -> str\n",
            " |      \n",
            " |      Return a formatted version of S, using substitutions from mapping.\n",
            " |      The substitutions are identified by braces ('{' and '}').\n",
            " |  \n",
            " |  index(...)\n",
            " |      S.index(sub[, start[, end]]) -> int\n",
            " |      \n",
            " |      Return the lowest index in S where substring sub is found,\n",
            " |      such that sub is contained within S[start:end].  Optional\n",
            " |      arguments start and end are interpreted as in slice notation.\n",
            " |      \n",
            " |      Raises ValueError when the substring is not found.\n",
            " |  \n",
            " |  isalnum(self, /)\n",
            " |      Return True if the string is an alpha-numeric string, False otherwise.\n",
            " |      \n",
            " |      A string is alpha-numeric if all characters in the string are alpha-numeric and\n",
            " |      there is at least one character in the string.\n",
            " |  \n",
            " |  isalpha(self, /)\n",
            " |      Return True if the string is an alphabetic string, False otherwise.\n",
            " |      \n",
            " |      A string is alphabetic if all characters in the string are alphabetic and there\n",
            " |      is at least one character in the string.\n",
            " |  \n",
            " |  isascii(self, /)\n",
            " |      Return True if all characters in the string are ASCII, False otherwise.\n",
            " |      \n",
            " |      ASCII characters have code points in the range U+0000-U+007F.\n",
            " |      Empty string is ASCII too.\n",
            " |  \n",
            " |  isdecimal(self, /)\n",
            " |      Return True if the string is a decimal string, False otherwise.\n",
            " |      \n",
            " |      A string is a decimal string if all characters in the string are decimal and\n",
            " |      there is at least one character in the string.\n",
            " |  \n",
            " |  isdigit(self, /)\n",
            " |      Return True if the string is a digit string, False otherwise.\n",
            " |      \n",
            " |      A string is a digit string if all characters in the string are digits and there\n",
            " |      is at least one character in the string.\n",
            " |  \n",
            " |  isidentifier(self, /)\n",
            " |      Return True if the string is a valid Python identifier, False otherwise.\n",
            " |      \n",
            " |      Call keyword.iskeyword(s) to test whether string s is a reserved identifier,\n",
            " |      such as \"def\" or \"class\".\n",
            " |  \n",
            " |  islower(self, /)\n",
            " |      Return True if the string is a lowercase string, False otherwise.\n",
            " |      \n",
            " |      A string is lowercase if all cased characters in the string are lowercase and\n",
            " |      there is at least one cased character in the string.\n",
            " |  \n",
            " |  isnumeric(self, /)\n",
            " |      Return True if the string is a numeric string, False otherwise.\n",
            " |      \n",
            " |      A string is numeric if all characters in the string are numeric and there is at\n",
            " |      least one character in the string.\n",
            " |  \n",
            " |  isprintable(self, /)\n",
            " |      Return True if the string is printable, False otherwise.\n",
            " |      \n",
            " |      A string is printable if all of its characters are considered printable in\n",
            " |      repr() or if it is empty.\n",
            " |  \n",
            " |  isspace(self, /)\n",
            " |      Return True if the string is a whitespace string, False otherwise.\n",
            " |      \n",
            " |      A string is whitespace if all characters in the string are whitespace and there\n",
            " |      is at least one character in the string.\n",
            " |  \n",
            " |  istitle(self, /)\n",
            " |      Return True if the string is a title-cased string, False otherwise.\n",
            " |      \n",
            " |      In a title-cased string, upper- and title-case characters may only\n",
            " |      follow uncased characters and lowercase characters only cased ones.\n",
            " |  \n",
            " |  isupper(self, /)\n",
            " |      Return True if the string is an uppercase string, False otherwise.\n",
            " |      \n",
            " |      A string is uppercase if all cased characters in the string are uppercase and\n",
            " |      there is at least one cased character in the string.\n",
            " |  \n",
            " |  join(self, iterable, /)\n",
            " |      Concatenate any number of strings.\n",
            " |      \n",
            " |      The string whose method is called is inserted in between each given string.\n",
            " |      The result is returned as a new string.\n",
            " |      \n",
            " |      Example: '.'.join(['ab', 'pq', 'rs']) -> 'ab.pq.rs'\n",
            " |  \n",
            " |  ljust(self, width, fillchar=' ', /)\n",
            " |      Return a left-justified string of length width.\n",
            " |      \n",
            " |      Padding is done using the specified fill character (default is a space).\n",
            " |  \n",
            " |  lower(self, /)\n",
            " |      Return a copy of the string converted to lowercase.\n",
            " |  \n",
            " |  lstrip(self, chars=None, /)\n",
            " |      Return a copy of the string with leading whitespace removed.\n",
            " |      \n",
            " |      If chars is given and not None, remove characters in chars instead.\n",
            " |  \n",
            " |  partition(self, sep, /)\n",
            " |      Partition the string into three parts using the given separator.\n",
            " |      \n",
            " |      This will search for the separator in the string.  If the separator is found,\n",
            " |      returns a 3-tuple containing the part before the separator, the separator\n",
            " |      itself, and the part after it.\n",
            " |      \n",
            " |      If the separator is not found, returns a 3-tuple containing the original string\n",
            " |      and two empty strings.\n",
            " |  \n",
            " |  removeprefix(self, prefix, /)\n",
            " |      Return a str with the given prefix string removed if present.\n",
            " |      \n",
            " |      If the string starts with the prefix string, return string[len(prefix):].\n",
            " |      Otherwise, return a copy of the original string.\n",
            " |  \n",
            " |  removesuffix(self, suffix, /)\n",
            " |      Return a str with the given suffix string removed if present.\n",
            " |      \n",
            " |      If the string ends with the suffix string and that suffix is not empty,\n",
            " |      return string[:-len(suffix)]. Otherwise, return a copy of the original\n",
            " |      string.\n",
            " |  \n",
            " |  replace(self, old, new, count=-1, /)\n",
            " |      Return a copy with all occurrences of substring old replaced by new.\n",
            " |      \n",
            " |        count\n",
            " |          Maximum number of occurrences to replace.\n",
            " |          -1 (the default value) means replace all occurrences.\n",
            " |      \n",
            " |      If the optional argument count is given, only the first count occurrences are\n",
            " |      replaced.\n",
            " |  \n",
            " |  rfind(...)\n",
            " |      S.rfind(sub[, start[, end]]) -> int\n",
            " |      \n",
            " |      Return the highest index in S where substring sub is found,\n",
            " |      such that sub is contained within S[start:end].  Optional\n",
            " |      arguments start and end are interpreted as in slice notation.\n",
            " |      \n",
            " |      Return -1 on failure.\n",
            " |  \n",
            " |  rindex(...)\n",
            " |      S.rindex(sub[, start[, end]]) -> int\n",
            " |      \n",
            " |      Return the highest index in S where substring sub is found,\n",
            " |      such that sub is contained within S[start:end].  Optional\n",
            " |      arguments start and end are interpreted as in slice notation.\n",
            " |      \n",
            " |      Raises ValueError when the substring is not found.\n",
            " |  \n",
            " |  rjust(self, width, fillchar=' ', /)\n",
            " |      Return a right-justified string of length width.\n",
            " |      \n",
            " |      Padding is done using the specified fill character (default is a space).\n",
            " |  \n",
            " |  rpartition(self, sep, /)\n",
            " |      Partition the string into three parts using the given separator.\n",
            " |      \n",
            " |      This will search for the separator in the string, starting at the end. If\n",
            " |      the separator is found, returns a 3-tuple containing the part before the\n",
            " |      separator, the separator itself, and the part after it.\n",
            " |      \n",
            " |      If the separator is not found, returns a 3-tuple containing two empty strings\n",
            " |      and the original string.\n",
            " |  \n",
            " |  rsplit(self, /, sep=None, maxsplit=-1)\n",
            " |      Return a list of the substrings in the string, using sep as the separator string.\n",
            " |      \n",
            " |        sep\n",
            " |          The separator used to split the string.\n",
            " |      \n",
            " |          When set to None (the default value), will split on any whitespace\n",
            " |          character (including \\n \\r \\t \\f and spaces) and will discard\n",
            " |          empty strings from the result.\n",
            " |        maxsplit\n",
            " |          Maximum number of splits.\n",
            " |          -1 (the default value) means no limit.\n",
            " |      \n",
            " |      Splitting starts at the end of the string and works to the front.\n",
            " |  \n",
            " |  rstrip(self, chars=None, /)\n",
            " |      Return a copy of the string with trailing whitespace removed.\n",
            " |      \n",
            " |      If chars is given and not None, remove characters in chars instead.\n",
            " |  \n",
            " |  split(self, /, sep=None, maxsplit=-1)\n",
            " |      Return a list of the substrings in the string, using sep as the separator string.\n",
            " |      \n",
            " |        sep\n",
            " |          The separator used to split the string.\n",
            " |      \n",
            " |          When set to None (the default value), will split on any whitespace\n",
            " |          character (including \\n \\r \\t \\f and spaces) and will discard\n",
            " |          empty strings from the result.\n",
            " |        maxsplit\n",
            " |          Maximum number of splits.\n",
            " |          -1 (the default value) means no limit.\n",
            " |      \n",
            " |      Splitting starts at the front of the string and works to the end.\n",
            " |      \n",
            " |      Note, str.split() is mainly useful for data that has been intentionally\n",
            " |      delimited.  With natural text that includes punctuation, consider using\n",
            " |      the regular expression module.\n",
            " |  \n",
            " |  splitlines(self, /, keepends=False)\n",
            " |      Return a list of the lines in the string, breaking at line boundaries.\n",
            " |      \n",
            " |      Line breaks are not included in the resulting list unless keepends is given and\n",
            " |      true.\n",
            " |  \n",
            " |  startswith(...)\n",
            " |      S.startswith(prefix[, start[, end]]) -> bool\n",
            " |      \n",
            " |      Return True if S starts with the specified prefix, False otherwise.\n",
            " |      With optional start, test S beginning at that position.\n",
            " |      With optional end, stop comparing S at that position.\n",
            " |      prefix can also be a tuple of strings to try.\n",
            " |  \n",
            " |  strip(self, chars=None, /)\n",
            " |      Return a copy of the string with leading and trailing whitespace removed.\n",
            " |      \n",
            " |      If chars is given and not None, remove characters in chars instead.\n",
            " |  \n",
            " |  swapcase(self, /)\n",
            " |      Convert uppercase characters to lowercase and lowercase characters to uppercase.\n",
            " |  \n",
            " |  title(self, /)\n",
            " |      Return a version of the string where each word is titlecased.\n",
            " |      \n",
            " |      More specifically, words start with uppercased characters and all remaining\n",
            " |      cased characters have lower case.\n",
            " |  \n",
            " |  translate(self, table, /)\n",
            " |      Replace each character in the string using the given translation table.\n",
            " |      \n",
            " |        table\n",
            " |          Translation table, which must be a mapping of Unicode ordinals to\n",
            " |          Unicode ordinals, strings, or None.\n",
            " |      \n",
            " |      The table must implement lookup/indexing via __getitem__, for instance a\n",
            " |      dictionary or list.  If this operation raises LookupError, the character is\n",
            " |      left untouched.  Characters mapped to None are deleted.\n",
            " |  \n",
            " |  upper(self, /)\n",
            " |      Return a copy of the string converted to uppercase.\n",
            " |  \n",
            " |  zfill(self, width, /)\n",
            " |      Pad a numeric string with zeros on the left, to fill a field of the given width.\n",
            " |      \n",
            " |      The string is never truncated.\n",
            " |  \n",
            " |  ----------------------------------------------------------------------\n",
            " |  Static methods defined here:\n",
            " |  \n",
            " |  __new__(*args, **kwargs)\n",
            " |      Create and return a new object.  See help(type) for accurate signature.\n",
            " |  \n",
            " |  maketrans(...)\n",
            " |      Return a translation table usable for str.translate().\n",
            " |      \n",
            " |      If there is only one argument, it must be a dictionary mapping Unicode\n",
            " |      ordinals (integers) or characters to Unicode ordinals, strings or None.\n",
            " |      Character keys will be then converted to ordinals.\n",
            " |      If there are two arguments, they must be strings of equal length, and\n",
            " |      in the resulting dictionary, each character in x will be mapped to the\n",
            " |      character at the same position in y. If there is a third argument, it\n",
            " |      must be a string, whose characters will be mapped to None in the result.\n",
            "\n"
          ]
        }
      ]
    },
    {
      "cell_type": "markdown",
      "source": [
        "The in operator for Strings"
      ],
      "metadata": {
        "id": "CfmUh_F93H_4"
      }
    },
    {
      "cell_type": "code",
      "source": [
        "message = \" Hello World\"\n",
        "print('W' in message)\n",
        "print('old' in message)\n",
        "word = input(\"Enter a word: \")\n",
        "if word in \"The big brown fox jumps over the lazy dog\":\n",
        "    print(\"The word is in the text\")\n",
        "else:\n",
        "    print(\"The word is not in the text\")"
      ],
      "metadata": {
        "id": "ZNBQDuv43KvA",
        "outputId": "634ba732-6094-4c9c-f39f-8cab894cba6b",
        "colab": {
          "base_uri": "https://localhost:8080/"
        }
      },
      "execution_count": 16,
      "outputs": [
        {
          "output_type": "stream",
          "name": "stdout",
          "text": [
            "True\n",
            "False\n",
            "Enter a word: fox\n",
            "The word is in the text\n"
          ]
        }
      ]
    },
    {
      "cell_type": "markdown",
      "source": [
        "Using a String in an iterative statement"
      ],
      "metadata": {
        "id": "QkAkrKmB3KPo"
      }
    },
    {
      "cell_type": "code",
      "source": [
        "for character in message:\n",
        "    print(character)\n",
        "\n",
        "i = 0\n",
        "\n",
        "while i < len(message):\n",
        "    print(message[i])\n",
        "    i += 1"
      ],
      "metadata": {
        "id": "87_PJzUz3N_g",
        "outputId": "dc85b52a-af51-40ab-b576-115096906ba6",
        "colab": {
          "base_uri": "https://localhost:8080/"
        }
      },
      "execution_count": 17,
      "outputs": [
        {
          "output_type": "stream",
          "name": "stdout",
          "text": [
            " \n",
            "H\n",
            "e\n",
            "l\n",
            "l\n",
            "o\n",
            " \n",
            "W\n",
            "o\n",
            "r\n",
            "l\n",
            "d\n",
            " \n",
            "H\n",
            "e\n",
            "l\n",
            "l\n",
            "o\n",
            " \n",
            "W\n",
            "o\n",
            "r\n",
            "l\n",
            "d\n"
          ]
        }
      ]
    },
    {
      "cell_type": "markdown",
      "source": [
        "Tuples"
      ],
      "metadata": {
        "id": "Elez6CFy3Oeh"
      }
    },
    {
      "cell_type": "code",
      "source": [
        "tuplelist = (1, 2, 3, 4, 5)\n",
        "numberlist = [1, 2, 3, 4, 5, 6]\n",
        "\n",
        "print(numberlist[0])\n",
        "print(numberlist[1])\n",
        "print(numberlist[2])\n",
        "print(numberlist[3])\n",
        "print(numberlist[4])\n",
        "print(numberlist[5])\n",
        "\n",
        "print(tuplelist + (1, 2, 3))\n",
        "\n",
        "print(tuplelist[0:3])\n",
        "print(tuplelist[1:4])\n",
        "print(tuplelist[-3:])\n",
        "\n",
        "for number in tuplelist:\n",
        "    print(number)"
      ],
      "metadata": {
        "id": "wMBNEPY03Qx4",
        "outputId": "f942c1ae-9ab3-462e-cd8d-50cb804507e2",
        "colab": {
          "base_uri": "https://localhost:8080/"
        }
      },
      "execution_count": 18,
      "outputs": [
        {
          "output_type": "stream",
          "name": "stdout",
          "text": [
            "1\n",
            "2\n",
            "3\n",
            "4\n",
            "5\n",
            "6\n",
            "(1, 2, 3, 4, 5, 1, 2, 3)\n",
            "(1, 2, 3)\n",
            "(2, 3, 4)\n",
            "(3, 4, 5)\n",
            "1\n",
            "2\n",
            "3\n",
            "4\n",
            "5\n"
          ]
        }
      ]
    },
    {
      "cell_type": "markdown",
      "source": [
        "Dictionaries"
      ],
      "metadata": {
        "id": "4gph-UCB3ROI"
      }
    },
    {
      "cell_type": "code",
      "source": [
        "contactinfo = {'id': 1, 'first_name': 'John', 'last_name': 'Doe', 'contact_number': '09060611233'}"
      ],
      "metadata": {
        "id": "QW7nUdaZ3UZK"
      },
      "execution_count": 19,
      "outputs": []
    },
    {
      "cell_type": "code",
      "source": [
        "print(contactinfo['id'])\n",
        "print(contactinfo['first_name'])\n",
        "print(contactinfo['last_name'])\n",
        "print(contactinfo['contact_number'])"
      ],
      "metadata": {
        "id": "C3jtZErT5Mo-",
        "outputId": "472f9aad-49af-48c8-ee3a-1bbc00ed00da",
        "colab": {
          "base_uri": "https://localhost:8080/"
        }
      },
      "execution_count": 20,
      "outputs": [
        {
          "output_type": "stream",
          "name": "stdout",
          "text": [
            "1\n",
            "John\n",
            "Doe\n",
            "09060611233\n"
          ]
        }
      ]
    },
    {
      "cell_type": "code",
      "source": [
        "for k in contactinfo:\n",
        "    print(k)"
      ],
      "metadata": {
        "id": "eBbbjhY85wxX",
        "outputId": "7332a936-96f6-4244-ef1e-5a760fc80f63",
        "colab": {
          "base_uri": "https://localhost:8080/"
        }
      },
      "execution_count": 21,
      "outputs": [
        {
          "output_type": "stream",
          "name": "stdout",
          "text": [
            "id\n",
            "first_name\n",
            "last_name\n",
            "contact_number\n"
          ]
        }
      ]
    },
    {
      "cell_type": "code",
      "source": [
        "for k, v in contactinfo.items():\n",
        "    print(k, v)"
      ],
      "metadata": {
        "id": "BkD_V7fr5xJu",
        "outputId": "fad3a5e4-d76a-47a0-bba6-461e0d8ed0d6",
        "colab": {
          "base_uri": "https://localhost:8080/"
        }
      },
      "execution_count": 22,
      "outputs": [
        {
          "output_type": "stream",
          "name": "stdout",
          "text": [
            "id 1\n",
            "first_name John\n",
            "last_name Doe\n",
            "contact_number 09060611233\n"
          ]
        }
      ]
    },
    {
      "cell_type": "code",
      "source": [
        "contactinfo['id'] = 2\n",
        "contactinfo['first_name'] = 'Max'\n",
        "print(contactinfo)"
      ],
      "metadata": {
        "id": "1VAK3Ej_55hu",
        "outputId": "fb0ee80c-c858-441a-a941-4d80491a2ee7",
        "colab": {
          "base_uri": "https://localhost:8080/"
        }
      },
      "execution_count": 23,
      "outputs": [
        {
          "output_type": "stream",
          "name": "stdout",
          "text": [
            "{'id': 2, 'first_name': 'Max', 'last_name': 'Doe', 'contact_number': '09060611233'}\n"
          ]
        }
      ]
    },
    {
      "cell_type": "markdown",
      "source": [
        "# Supplementary Activity"
      ],
      "metadata": {
        "id": "QyymflwSWUjJ"
      }
    },
    {
      "cell_type": "markdown",
      "source": [
        "1."
      ],
      "metadata": {
        "id": "7a8we4iaWfDP"
      }
    },
    {
      "cell_type": "code",
      "execution_count": null,
      "metadata": {
        "colab": {
          "base_uri": "https://localhost:8080/"
        },
        "id": "QRMXQAvwUVw5",
        "outputId": "e98be259-ca31-4e76-fad8-b99390e14768"
      },
      "outputs": [
        {
          "output_type": "stream",
          "name": "stdout",
          "text": [
            "Distance between points: 2.24\n"
          ]
        }
      ],
      "source": [
        "# Distance Formula\n",
        "coordinates_list = [(1, 1), (2, 3)]\n",
        "\n",
        "x1 = coordinates_list[0][0]\n",
        "y1 = coordinates_list[0][1]\n",
        "x2 = coordinates_list[1][0]\n",
        "y2 = coordinates_list[1][1]\n",
        "\n",
        "distance = ((x2 - x1)**2 + (y2 - y1)**2)**0.5\n",
        "print(\"Distance between points:\", round(distance, 2))"
      ]
    },
    {
      "cell_type": "markdown",
      "source": [
        "2."
      ],
      "metadata": {
        "id": "6I5AdfItWhUG"
      }
    },
    {
      "cell_type": "code",
      "source": [
        "# Word Filter\n",
        "text = input(\"Enter message: \")\n",
        "censored_text = \"\"\n",
        "\n",
        "for word in text.split(\" \"):\n",
        "    if \"stupid\" in word:\n",
        "        censored_text += \"*\" * len(word) + \" \"\n",
        "    else:\n",
        "        censored_text += word + \" \"\n",
        "\n",
        "print(\"Censored message:\", censored_text.strip())"
      ],
      "metadata": {
        "colab": {
          "base_uri": "https://localhost:8080/"
        },
        "id": "rgMOU6igWidv",
        "outputId": "1b5531ab-587f-4f69-a6fb-91ba745b26ba"
      },
      "execution_count": null,
      "outputs": [
        {
          "output_type": "stream",
          "name": "stdout",
          "text": [
            "Enter message: You are so stupid\n",
            "Censored message: You are so ******\n"
          ]
        }
      ]
    },
    {
      "cell_type": "markdown",
      "source": [
        "3."
      ],
      "metadata": {
        "id": "b28g01H3Wi7X"
      }
    },
    {
      "cell_type": "code",
      "source": [
        "# Phonebook\n",
        "phonebook_list = []\n",
        "onActive = True\n",
        "\n",
        "while onActive:\n",
        "    print(\"\\n(1) Add new user to the list\")\n",
        "    print(\"(2) Display users list.\")\n",
        "    print(\"(3) Stop the program.\")\n",
        "\n",
        "    userInput = input(\"Enter number: \")\n",
        "\n",
        "    if userInput.isdigit():\n",
        "        userInput = int(userInput)\n",
        "\n",
        "        if userInput == 1:\n",
        "            userName = input(\"Enter name: \")\n",
        "            userContact = input(\"Enter contact: \")\n",
        "            userAddress = input(\"Enter address: \")\n",
        "            phonebook_list.append((userName, userContact, userAddress))\n",
        "            print(\"User added!\")\n",
        "\n",
        "        elif userInput == 2:\n",
        "            if phonebook_list:\n",
        "                for i, v in enumerate(phonebook_list):\n",
        "                    print(\"-\" * 10, \"User\", i, \"-\" * 10)\n",
        "                    print(\"Name:\", v[0])\n",
        "                    print(\"Contact:\", v[1])\n",
        "                    print(\"Address:\", v[2])\n",
        "            else:\n",
        "                print(\"Phonebook is empty.\")\n",
        "\n",
        "        elif userInput == 3:\n",
        "            onActive = False\n",
        "            print(\"Program stopped.\")\n",
        "\n",
        "        else:\n",
        "            print(\"Unknown option.\")\n",
        "    else:\n",
        "        print(\"Please enter a valid number.\")"
      ],
      "metadata": {
        "colab": {
          "base_uri": "https://localhost:8080/"
        },
        "id": "Ss7f9RswWkIH",
        "outputId": "ff983ce0-2f0d-4a08-9bbe-225861c6373b"
      },
      "execution_count": null,
      "outputs": [
        {
          "output_type": "stream",
          "name": "stdout",
          "text": [
            "\n",
            "(1) Add new user to the list\n",
            "(2) Display users list.\n",
            "(3) Stop the program.\n",
            "Enter number: 1\n",
            "Enter name: Ken\n",
            "Enter contact: 0987654321\n",
            "Enter address: Bulacan\n",
            "User added!\n",
            "\n",
            "(1) Add new user to the list\n",
            "(2) Display users list.\n",
            "(3) Stop the program.\n",
            "Enter number: 1\n",
            "Enter name: Kenneth\n",
            "Enter contact: 0912345678\n",
            "Enter address: Caloocan City\n",
            "User added!\n",
            "\n",
            "(1) Add new user to the list\n",
            "(2) Display users list.\n",
            "(3) Stop the program.\n",
            "Enter number: 1\n",
            "Enter name: Asugas\n",
            "Enter contact: Quezon City\n",
            "Enter address: 0902356783\n",
            "User added!\n",
            "\n",
            "(1) Add new user to the list\n",
            "(2) Display users list.\n",
            "(3) Stop the program.\n",
            "Enter number: 2\n",
            "---------- User 0 ----------\n",
            "Name: Ken\n",
            "Contact: 0987654321\n",
            "Address: Bulacan\n",
            "---------- User 1 ----------\n",
            "Name: Kenneth\n",
            "Contact: 0912345678\n",
            "Address: Caloocan City\n",
            "---------- User 2 ----------\n",
            "Name: Asugas\n",
            "Contact: Quezon City\n",
            "Address: 0902356783\n",
            "\n",
            "(1) Add new user to the list\n",
            "(2) Display users list.\n",
            "(3) Stop the program.\n",
            "Enter number: 3\n",
            "Program stopped.\n"
          ]
        }
      ]
    }
  ]
}
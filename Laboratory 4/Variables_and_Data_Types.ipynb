{
  "nbformat": 4,
  "nbformat_minor": 0,
  "metadata": {
    "colab": {
      "provenance": [],
      "collapsed_sections": [
        "oCIJeduh8t8L",
        "7SiqgDa434Zy",
        "Z8LMuzMa4ZBL",
        "KsHz_tuQ50HC"
      ],
      "authorship_tag": "ABX9TyNnD5yBItRivHpDV6aUiyWd",
      "include_colab_link": true
    },
    "kernelspec": {
      "name": "python3",
      "display_name": "Python 3"
    },
    "language_info": {
      "name": "python"
    }
  },
  "cells": [
    {
      "cell_type": "markdown",
      "metadata": {
        "id": "view-in-github",
        "colab_type": "text"
      },
      "source": [
        "<a href=\"https://colab.research.google.com/github/Kenneth-Asugas/CPE-103-OOP-1-A/blob/main/Variables_and_Data_Types.ipynb\" target=\"_parent\"><img src=\"https://colab.research.google.com/assets/colab-badge.svg\" alt=\"Open In Colab\"/></a>"
      ]
    },
    {
      "cell_type": "markdown",
      "source": [
        "# Variables and Data Types"
      ],
      "metadata": {
        "id": "oCIJeduh8t8L"
      }
    },
    {
      "cell_type": "markdown",
      "source": [
        "Numbers"
      ],
      "metadata": {
        "id": "KNoXjloR0Bl1"
      }
    },
    {
      "cell_type": "code",
      "execution_count": 1,
      "metadata": {
        "id": "OFKI-kEjzssQ"
      },
      "outputs": [],
      "source": [
        "varNum = 123\n",
        "pi = 3.14159"
      ]
    },
    {
      "cell_type": "markdown",
      "source": [
        "Strings"
      ],
      "metadata": {
        "id": "eP4SlzzT0kOa"
      }
    },
    {
      "cell_type": "code",
      "source": [
        "varString = \"Hello World\"\n",
        "varText = 'This is a String'"
      ],
      "metadata": {
        "id": "mWxwxSDA0nYZ"
      },
      "execution_count": 2,
      "outputs": []
    },
    {
      "cell_type": "markdown",
      "source": [
        "Lists"
      ],
      "metadata": {
        "id": "OUMtDr4p0oIi"
      }
    },
    {
      "cell_type": "code",
      "source": [
        "varList = [\"abc\", 123]"
      ],
      "metadata": {
        "id": "dx_9YnS-0rQS"
      },
      "execution_count": 3,
      "outputs": []
    },
    {
      "cell_type": "markdown",
      "source": [
        "Tuples"
      ],
      "metadata": {
        "id": "7IT21vRc0rmp"
      }
    },
    {
      "cell_type": "code",
      "source": [
        "varTuple = ('abc', 123, \"Hello\")"
      ],
      "metadata": {
        "id": "fWNZPKsW0tgB"
      },
      "execution_count": 4,
      "outputs": []
    },
    {
      "cell_type": "markdown",
      "source": [
        "Dictionaries"
      ],
      "metadata": {
        "id": "hNZFfYq_0tya"
      }
    },
    {
      "cell_type": "code",
      "source": [
        "var = 3\n",
        "varDict = {'first':1, '2':'2nd', 3: var}\n",
        "\n",
        "varDict = {}\n",
        "varDict['first']= 1\n",
        "varDict['2'] = '2nd'\n",
        "varDict[3] = var"
      ],
      "metadata": {
        "id": "7znH3Zpz0wcp"
      },
      "execution_count": 5,
      "outputs": []
    },
    {
      "cell_type": "markdown",
      "source": [
        "# Arithmetic"
      ],
      "metadata": {
        "id": "7SiqgDa434Zy"
      }
    },
    {
      "cell_type": "markdown",
      "source": [
        "Addition"
      ],
      "metadata": {
        "id": "ydG9qSFh4Cfq"
      }
    },
    {
      "cell_type": "code",
      "source": [
        "a = 5 + 3"
      ],
      "metadata": {
        "id": "bkKEAlnn4GSM"
      },
      "execution_count": 6,
      "outputs": []
    },
    {
      "cell_type": "markdown",
      "source": [
        "Subtraction"
      ],
      "metadata": {
        "id": "w0GMgi8J6sKT"
      }
    },
    {
      "cell_type": "code",
      "source": [
        "a = 5 - 3"
      ],
      "metadata": {
        "id": "YB5IF-8P6w17"
      },
      "execution_count": 7,
      "outputs": []
    },
    {
      "cell_type": "markdown",
      "source": [
        "Multiplication"
      ],
      "metadata": {
        "id": "w5wVL7Zu60Jj"
      }
    },
    {
      "cell_type": "code",
      "source": [
        "a = 5 * 3"
      ],
      "metadata": {
        "id": "Hht2Bx-i62rq"
      },
      "execution_count": 8,
      "outputs": []
    },
    {
      "cell_type": "markdown",
      "source": [
        "Exponent"
      ],
      "metadata": {
        "id": "u-WGKFtG65wb"
      }
    },
    {
      "cell_type": "code",
      "source": [
        "a = 5 ** 3"
      ],
      "metadata": {
        "id": "jycSYq9d670d"
      },
      "execution_count": 9,
      "outputs": []
    },
    {
      "cell_type": "markdown",
      "source": [
        "Division"
      ],
      "metadata": {
        "id": "DjyUAd4h6-6z"
      }
    },
    {
      "cell_type": "code",
      "source": [
        "a = 5 / 3\n",
        "\n",
        "a = 5 % 3\n",
        "\n",
        "a = 5 // 3"
      ],
      "metadata": {
        "id": "OAbbHfsZ6-k7"
      },
      "execution_count": 10,
      "outputs": []
    },
    {
      "cell_type": "markdown",
      "source": [
        "Increment/Decrement"
      ],
      "metadata": {
        "id": "iSdIF7m97XA7"
      }
    },
    {
      "cell_type": "code",
      "source": [
        "a = 5\n",
        "a += 1"
      ],
      "metadata": {
        "id": "sSlsFyOa7c1D"
      },
      "execution_count": 11,
      "outputs": []
    },
    {
      "cell_type": "markdown",
      "source": [
        "Decrement"
      ],
      "metadata": {
        "id": "PlThGwiQ7h9k"
      }
    },
    {
      "cell_type": "code",
      "source": [
        "a = 5\n",
        "a -= 1"
      ],
      "metadata": {
        "id": "SIy58WiG7k3T"
      },
      "execution_count": 12,
      "outputs": []
    },
    {
      "cell_type": "markdown",
      "source": [
        "String Concatenation"
      ],
      "metadata": {
        "id": "_ncc0zIQ7pq7"
      }
    },
    {
      "cell_type": "code",
      "source": [
        "a = 'Hello ' + 'World!'"
      ],
      "metadata": {
        "id": "OIH-52Fs7vzD"
      },
      "execution_count": 13,
      "outputs": []
    },
    {
      "cell_type": "markdown",
      "source": [
        "Complex Expressions"
      ],
      "metadata": {
        "id": "SZfaTET976Jr"
      }
    },
    {
      "cell_type": "code",
      "source": [
        "a = 3 + 5 - 6 * 2 / 4"
      ],
      "metadata": {
        "id": "-CEGNFMa7-0r"
      },
      "execution_count": 14,
      "outputs": []
    },
    {
      "cell_type": "markdown",
      "source": [
        "# Control Statements and Data Structures"
      ],
      "metadata": {
        "id": "Mu-T_FNi4LSC"
      }
    },
    {
      "cell_type": "markdown",
      "source": [
        "# Conditional Statements"
      ],
      "metadata": {
        "id": "Z8LMuzMa4ZBL"
      }
    },
    {
      "cell_type": "markdown",
      "source": [
        "Boolean Conditions"
      ],
      "metadata": {
        "id": "7bu0Vt8m41Fq"
      }
    },
    {
      "cell_type": "code",
      "source": [
        "x = True\n",
        "\n",
        "if x:\n",
        "    print(\"var x is True\")\n",
        "else:\n",
        "    print(\"var x is False\")"
      ],
      "metadata": {
        "colab": {
          "base_uri": "https://localhost:8080/"
        },
        "id": "yyYp7dow4eCi",
        "outputId": "ad73004c-ddd3-4f59-ba71-3cefc2885362"
      },
      "execution_count": 15,
      "outputs": [
        {
          "output_type": "stream",
          "name": "stdout",
          "text": [
            "var x is True\n"
          ]
        }
      ]
    },
    {
      "cell_type": "markdown",
      "source": [
        "String Conditions"
      ],
      "metadata": {
        "id": "k3pH3mq94w5a"
      }
    },
    {
      "cell_type": "code",
      "source": [
        "x = \"Hello World\"\n",
        "\n",
        "if x == 'Hello World':\n",
        "    print(\"var x is Hello World!\")\n",
        "else:\n",
        "    print(\"var x is not Hello World!\")"
      ],
      "metadata": {
        "colab": {
          "base_uri": "https://localhost:8080/"
        },
        "id": "auPOIOH_48Z6",
        "outputId": "825af6d8-7161-4d5e-a15b-d3c38f610784"
      },
      "execution_count": 16,
      "outputs": [
        {
          "output_type": "stream",
          "name": "stdout",
          "text": [
            "var x is Hello World!\n"
          ]
        }
      ]
    },
    {
      "cell_type": "markdown",
      "source": [
        "Numerical Conditions"
      ],
      "metadata": {
        "id": "RfFARR8W5PKy"
      }
    },
    {
      "cell_type": "code",
      "source": [
        "x = 10\n",
        "\n",
        "if x == '10':\n",
        "    print(\"var x is a string\")\n",
        "elif x == 10:\n",
        "    print(\"var x is an integer\")\n",
        "else:\n",
        "    print(\"var x is none of the above\")"
      ],
      "metadata": {
        "colab": {
          "base_uri": "https://localhost:8080/"
        },
        "id": "0Ot4iQ-p5U0C",
        "outputId": "7526411b-3f8f-492c-fd85-f1795e2a00b5"
      },
      "execution_count": 17,
      "outputs": [
        {
          "output_type": "stream",
          "name": "stdout",
          "text": [
            "var x is an integer\n"
          ]
        }
      ]
    },
    {
      "cell_type": "markdown",
      "source": [
        "# Loops"
      ],
      "metadata": {
        "id": "KsHz_tuQ50HC"
      }
    },
    {
      "cell_type": "markdown",
      "source": [
        "For Loops"
      ],
      "metadata": {
        "id": "crVl2jyc53Ta"
      }
    },
    {
      "cell_type": "code",
      "source": [
        "for var in range(0, 5, 2):\n",
        "    print(var)"
      ],
      "metadata": {
        "colab": {
          "base_uri": "https://localhost:8080/"
        },
        "id": "3qzYPtF756SC",
        "outputId": "a1f37524-8efb-4e2e-bb09-fe21fd1c40ee"
      },
      "execution_count": 18,
      "outputs": [
        {
          "output_type": "stream",
          "name": "stdout",
          "text": [
            "0\n",
            "2\n",
            "4\n"
          ]
        }
      ]
    },
    {
      "cell_type": "markdown",
      "source": [
        "While Loops"
      ],
      "metadata": {
        "id": "05ua_5po56nb"
      }
    },
    {
      "cell_type": "code",
      "source": [
        "var = 0\n",
        "while var < 5:\n",
        "    print(var)\n",
        "    var += 2"
      ],
      "metadata": {
        "colab": {
          "base_uri": "https://localhost:8080/"
        },
        "id": "tD4wnLnI5886",
        "outputId": "3f854162-672e-444f-90ec-a31f69ca4d71"
      },
      "execution_count": 19,
      "outputs": [
        {
          "output_type": "stream",
          "name": "stdout",
          "text": [
            "0\n",
            "2\n",
            "4\n"
          ]
        }
      ]
    },
    {
      "cell_type": "markdown",
      "source": [
        "Nested Loops"
      ],
      "metadata": {
        "id": "yUs2uH0J59g7"
      }
    },
    {
      "cell_type": "code",
      "source": [
        "x = 0\n",
        "while x < 5:\n",
        "  for y in range(0, x):\n",
        "    print(y, end='')\n",
        "  x += 1\n",
        "  print()"
      ],
      "metadata": {
        "colab": {
          "base_uri": "https://localhost:8080/"
        },
        "id": "I-UaVux36KaC",
        "outputId": "f8e3c4e4-d9ce-44ee-b615-d89d7a631e1f"
      },
      "execution_count": 20,
      "outputs": [
        {
          "output_type": "stream",
          "name": "stdout",
          "text": [
            "\n",
            "0\n",
            "01\n",
            "012\n",
            "0123\n"
          ]
        }
      ]
    },
    {
      "cell_type": "markdown",
      "source": [
        "# Functions"
      ],
      "metadata": {
        "id": "lt0Vuhb58XAj"
      }
    },
    {
      "cell_type": "markdown",
      "source": [
        "Functions"
      ],
      "metadata": {
        "id": "WUjYOyAo-TG7"
      }
    },
    {
      "cell_type": "code",
      "source": [
        "def remainder(n, m):\n",
        "  while True:\n",
        "    if n - m < 0:\n",
        "      return n\n",
        "    else:\n",
        "      n = n - m\n",
        "\n",
        "remainder(10, 4)"
      ],
      "metadata": {
        "colab": {
          "base_uri": "https://localhost:8080/"
        },
        "id": "eBR_JjU488ll",
        "outputId": "05f6b8a7-c2d2-4905-b241-d616be713a87"
      },
      "execution_count": 21,
      "outputs": [
        {
          "output_type": "execute_result",
          "data": {
            "text/plain": [
              "2"
            ]
          },
          "metadata": {},
          "execution_count": 21
        }
      ]
    },
    {
      "cell_type": "markdown",
      "source": [
        "Lists"
      ],
      "metadata": {
        "id": "4VxxLlsR9-Pr"
      }
    },
    {
      "cell_type": "code",
      "source": [
        "pi = 3.14159\n",
        "varList = [1, 2, 'A', 'B', 'Hello!', pi]\n",
        "print(varList[0])\n",
        "\n",
        "print(varList[4])\n",
        "\n",
        "varList.append('World!')\n",
        "print(varList[6])\n",
        "\n",
        "len(varList)\n",
        "\n",
        "print(varList[5])\n",
        "\n",
        "varList.remove(pi)\n",
        "print(varList[5])"
      ],
      "metadata": {
        "colab": {
          "base_uri": "https://localhost:8080/"
        },
        "id": "EJ8HjKEx-asb",
        "outputId": "a689c012-0039-496b-9748-0c3234d02d92"
      },
      "execution_count": 22,
      "outputs": [
        {
          "output_type": "stream",
          "name": "stdout",
          "text": [
            "1\n",
            "Hello!\n",
            "World!\n",
            "3.14159\n",
            "World!\n"
          ]
        }
      ]
    },
    {
      "cell_type": "markdown",
      "source": [
        "Dictionaries"
      ],
      "metadata": {
        "id": "i9ivmwzD_faT"
      }
    },
    {
      "cell_type": "code",
      "source": [
        "var = \"Hello World!\"\n",
        "varDict = {'first' : 123, 2 : 'abc',\n",
        "           '3' : var, 4 :['lista', 'listb']}\n",
        "print(varDict['first'])\n",
        "\n",
        "print(varDict[2])\n",
        "\n",
        "print(varDict['3'])\n",
        "\n",
        "print(varDict[4])\n",
        "\n",
        "print(varDict[4][1])\n",
        "\n",
        "len(varDict)"
      ],
      "metadata": {
        "colab": {
          "base_uri": "https://localhost:8080/"
        },
        "id": "303eod3s_uHU",
        "outputId": "eb471cff-fc6e-4759-9c27-f91ea27ed551"
      },
      "execution_count": 24,
      "outputs": [
        {
          "output_type": "stream",
          "name": "stdout",
          "text": [
            "123\n",
            "abc\n",
            "Hello World!\n",
            "['lista', 'listb']\n",
            "listb\n"
          ]
        },
        {
          "output_type": "execute_result",
          "data": {
            "text/plain": [
              "4"
            ]
          },
          "metadata": {},
          "execution_count": 24
        }
      ]
    },
    {
      "cell_type": "markdown",
      "source": [
        "List Generators and Comprehension"
      ],
      "metadata": {
        "id": "RqgRuzDMAlK7"
      }
    },
    {
      "cell_type": "code",
      "source": [
        "def gen_num_up_to(n):\n",
        "  num = 0\n",
        "  while num < n:\n",
        "    yield num\n",
        "    num += 1\n",
        "\n",
        "gen_num_up_to(5)\n",
        "\n",
        "varList = gen_num_up_to(5)\n",
        "print([var for var in varList])\n",
        "\n",
        "def gen_num_up_to(n):\n",
        "  num = 0\n",
        "  while num < n:\n",
        "    yield num\n",
        "    num += 2\n",
        "\n",
        "varList = gen_num_up_to(5)\n",
        "print([var for var in varList])\n",
        "\n",
        "varList = range(0, 5, 2)\n",
        "print([var for var in varList])"
      ],
      "metadata": {
        "colab": {
          "base_uri": "https://localhost:8080/"
        },
        "id": "Tpznt9qfA07q",
        "outputId": "8dbe4702-8a29-4010-e6b4-2d6260163a6a"
      },
      "execution_count": 25,
      "outputs": [
        {
          "output_type": "stream",
          "name": "stdout",
          "text": [
            "[0, 1, 2, 3, 4]\n",
            "[0, 2, 4]\n",
            "[0, 2, 4]\n"
          ]
        }
      ]
    },
    {
      "cell_type": "markdown",
      "source": [
        "Slicing"
      ],
      "metadata": {
        "id": "tH7Ja67GCUD9"
      }
    },
    {
      "cell_type": "code",
      "source": [
        "varList = [1, 2, 3, 4, 5, 6, 7, 8, 9, 10]\n",
        "print(varList[:5])\n",
        "\n",
        "print(varList[5:])\n",
        "\n",
        "print(varList[:-2])\n",
        "\n",
        "print(varList[-2:])\n",
        "\n",
        "print(varList[2:-2])\n",
        "\n",
        "print(varList[2:8:2])"
      ],
      "metadata": {
        "colab": {
          "base_uri": "https://localhost:8080/"
        },
        "id": "71Up5jbICV4U",
        "outputId": "c4dd1ade-f723-4ae1-856b-14e6f0c09edd"
      },
      "execution_count": 26,
      "outputs": [
        {
          "output_type": "stream",
          "name": "stdout",
          "text": [
            "[1, 2, 3, 4, 5]\n",
            "[6, 7, 8, 9, 10]\n",
            "[1, 2, 3, 4, 5, 6, 7, 8]\n",
            "[9, 10]\n",
            "[3, 4, 5, 6, 7, 8]\n",
            "[3, 5, 7]\n"
          ]
        }
      ]
    }
  ]
}
{
  "nbformat": 4,
  "nbformat_minor": 0,
  "metadata": {
    "colab": {
      "provenance": [],
      "authorship_tag": "ABX9TyNB7JWP+QL8qMaIP41ARIdW",
      "include_colab_link": true
    },
    "kernelspec": {
      "name": "python3",
      "display_name": "Python 3"
    },
    "language_info": {
      "name": "python"
    }
  },
  "cells": [
    {
      "cell_type": "markdown",
      "metadata": {
        "id": "view-in-github",
        "colab_type": "text"
      },
      "source": [
        "<a href=\"https://colab.research.google.com/github/Kenneth-Asugas/CPE-103-OOP-1-A/blob/main/Laboratory_4.ipynb\" target=\"_parent\"><img src=\"https://colab.research.google.com/assets/colab-badge.svg\" alt=\"Open In Colab\"/></a>"
      ]
    },
    {
      "cell_type": "markdown",
      "source": [
        "Supplementary Activity"
      ],
      "metadata": {
        "id": "QyymflwSWUjJ"
      }
    },
    {
      "cell_type": "markdown",
      "source": [
        "1."
      ],
      "metadata": {
        "id": "7a8we4iaWfDP"
      }
    },
    {
      "cell_type": "code",
      "execution_count": 5,
      "metadata": {
        "colab": {
          "base_uri": "https://localhost:8080/"
        },
        "id": "QRMXQAvwUVw5",
        "outputId": "e98be259-ca31-4e76-fad8-b99390e14768"
      },
      "outputs": [
        {
          "output_type": "stream",
          "name": "stdout",
          "text": [
            "Distance between points: 2.24\n"
          ]
        }
      ],
      "source": [
        "# Distance Formula\n",
        "coordinates_list = [(1, 1), (2, 3)]\n",
        "\n",
        "x1 = coordinates_list[0][0]\n",
        "y1 = coordinates_list[0][1]\n",
        "x2 = coordinates_list[1][0]\n",
        "y2 = coordinates_list[1][1]\n",
        "\n",
        "distance = ((x2 - x1)**2 + (y2 - y1)**2)**0.5\n",
        "print(\"Distance between points:\", round(distance, 2))"
      ]
    },
    {
      "cell_type": "markdown",
      "source": [
        "2."
      ],
      "metadata": {
        "id": "6I5AdfItWhUG"
      }
    },
    {
      "cell_type": "code",
      "source": [
        "# Word Filter\n",
        "text = input(\"Enter message: \")\n",
        "censored_text = \"\"\n",
        "\n",
        "for word in text.split(\" \"):\n",
        "    if \"stupid\" in word:\n",
        "        censored_text += \"*\" * len(word) + \" \"\n",
        "    else:\n",
        "        censored_text += word + \" \"\n",
        "\n",
        "print(\"Censored message:\", censored_text.strip())"
      ],
      "metadata": {
        "colab": {
          "base_uri": "https://localhost:8080/"
        },
        "id": "rgMOU6igWidv",
        "outputId": "1b5531ab-587f-4f69-a6fb-91ba745b26ba"
      },
      "execution_count": 8,
      "outputs": [
        {
          "output_type": "stream",
          "name": "stdout",
          "text": [
            "Enter message: You are so stupid\n",
            "Censored message: You are so ******\n"
          ]
        }
      ]
    },
    {
      "cell_type": "markdown",
      "source": [
        "3."
      ],
      "metadata": {
        "id": "b28g01H3Wi7X"
      }
    },
    {
      "cell_type": "code",
      "source": [
        "# Phonebook\n",
        "phonebook_list = []\n",
        "onActive = True\n",
        "\n",
        "while onActive:\n",
        "    print(\"\\n(1) Add new user to the list\")\n",
        "    print(\"(2) Display users list.\")\n",
        "    print(\"(3) Stop the program.\")\n",
        "\n",
        "    userInput = input(\"Enter number: \")\n",
        "\n",
        "    if userInput.isdigit():\n",
        "        userInput = int(userInput)\n",
        "\n",
        "        if userInput == 1:\n",
        "            userName = input(\"Enter name: \")\n",
        "            userContact = input(\"Enter contact: \")\n",
        "            userAddress = input(\"Enter address: \")\n",
        "            phonebook_list.append((userName, userContact, userAddress))\n",
        "            print(\"User added!\")\n",
        "\n",
        "        elif userInput == 2:\n",
        "            if phonebook_list:\n",
        "                for i, v in enumerate(phonebook_list):\n",
        "                    print(\"-\" * 10, \"User\", i, \"-\" * 10)\n",
        "                    print(\"Name:\", v[0])\n",
        "                    print(\"Contact:\", v[1])\n",
        "                    print(\"Address:\", v[2])\n",
        "            else:\n",
        "                print(\"Phonebook is empty.\")\n",
        "\n",
        "        elif userInput == 3:\n",
        "            onActive = False\n",
        "            print(\"Program stopped.\")\n",
        "\n",
        "        else:\n",
        "            print(\"Unknown option.\")\n",
        "    else:\n",
        "        print(\"Please enter a valid number.\")"
      ],
      "metadata": {
        "colab": {
          "base_uri": "https://localhost:8080/"
        },
        "id": "Ss7f9RswWkIH",
        "outputId": "ff983ce0-2f0d-4a08-9bbe-225861c6373b"
      },
      "execution_count": 10,
      "outputs": [
        {
          "output_type": "stream",
          "name": "stdout",
          "text": [
            "\n",
            "(1) Add new user to the list\n",
            "(2) Display users list.\n",
            "(3) Stop the program.\n",
            "Enter number: 1\n",
            "Enter name: Ken\n",
            "Enter contact: 0987654321\n",
            "Enter address: Bulacan\n",
            "User added!\n",
            "\n",
            "(1) Add new user to the list\n",
            "(2) Display users list.\n",
            "(3) Stop the program.\n",
            "Enter number: 1\n",
            "Enter name: Kenneth\n",
            "Enter contact: 0912345678\n",
            "Enter address: Caloocan City\n",
            "User added!\n",
            "\n",
            "(1) Add new user to the list\n",
            "(2) Display users list.\n",
            "(3) Stop the program.\n",
            "Enter number: 1\n",
            "Enter name: Asugas\n",
            "Enter contact: Quezon City\n",
            "Enter address: 0902356783\n",
            "User added!\n",
            "\n",
            "(1) Add new user to the list\n",
            "(2) Display users list.\n",
            "(3) Stop the program.\n",
            "Enter number: 2\n",
            "---------- User 0 ----------\n",
            "Name: Ken\n",
            "Contact: 0987654321\n",
            "Address: Bulacan\n",
            "---------- User 1 ----------\n",
            "Name: Kenneth\n",
            "Contact: 0912345678\n",
            "Address: Caloocan City\n",
            "---------- User 2 ----------\n",
            "Name: Asugas\n",
            "Contact: Quezon City\n",
            "Address: 0902356783\n",
            "\n",
            "(1) Add new user to the list\n",
            "(2) Display users list.\n",
            "(3) Stop the program.\n",
            "Enter number: 3\n",
            "Program stopped.\n"
          ]
        }
      ]
    }
  ]
}